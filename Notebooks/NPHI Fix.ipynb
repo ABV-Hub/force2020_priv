{
 "cells": [
  {
   "cell_type": "code",
   "execution_count": 1,
   "metadata": {},
   "outputs": [],
   "source": [
    "import pandas as pd\n",
    "import numpy as np\n",
    "import pickle\n",
    "from sklearn.model_selection import train_test_split\n",
    "from sklearn.metrics import accuracy_score\n",
    "from xgboost.sklearn import XGBClassifier\n",
    "import matplotlib.pyplot as plt\n",
    "\n",
    "import missingno"
   ]
  },
  {
   "cell_type": "code",
   "execution_count": 62,
   "metadata": {},
   "outputs": [],
   "source": [
    "data = pd.read_pickle('../pickles/MN8_clean_training_data')"
   ]
  },
  {
   "cell_type": "code",
   "execution_count": 63,
   "metadata": {},
   "outputs": [],
   "source": [
    "nphi_data = pd.read_pickle('../pickles/MN8_model_training_data')"
   ]
  },
  {
   "cell_type": "code",
   "execution_count": 64,
   "metadata": {},
   "outputs": [
    {
     "data": {
      "text/html": [
       "<div>\n",
       "<style scoped>\n",
       "    .dataframe tbody tr th:only-of-type {\n",
       "        vertical-align: middle;\n",
       "    }\n",
       "\n",
       "    .dataframe tbody tr th {\n",
       "        vertical-align: top;\n",
       "    }\n",
       "\n",
       "    .dataframe thead th {\n",
       "        text-align: right;\n",
       "    }\n",
       "</style>\n",
       "<table border=\"1\" class=\"dataframe\">\n",
       "  <thead>\n",
       "    <tr style=\"text-align: right;\">\n",
       "      <th></th>\n",
       "      <th>VSHALE</th>\n",
       "      <th>RHOB_COMBINED</th>\n",
       "      <th>DTC</th>\n",
       "      <th>RDEP</th>\n",
       "      <th>TVD</th>\n",
       "      <th>NPHI</th>\n",
       "      <th>PEF</th>\n",
       "      <th>BAAT GP.</th>\n",
       "      <th>BOKNFJORD GP.</th>\n",
       "      <th>CROMER KNOLL GP.</th>\n",
       "      <th>...</th>\n",
       "      <th>HEGRE GP.</th>\n",
       "      <th>NORDLAND GP.</th>\n",
       "      <th>ROGALAND GP.</th>\n",
       "      <th>ROTLIEGENDES GP.</th>\n",
       "      <th>SHETLAND GP.</th>\n",
       "      <th>TYNE GP.</th>\n",
       "      <th>VESTLAND GP.</th>\n",
       "      <th>VIKING GP.</th>\n",
       "      <th>ZECHSTEIN GP.</th>\n",
       "      <th>FORCE_2020_LITHOFACIES_LITHOLOGY</th>\n",
       "    </tr>\n",
       "  </thead>\n",
       "  <tbody>\n",
       "    <tr>\n",
       "      <th>count</th>\n",
       "      <td>1.170511e+06</td>\n",
       "      <td>1.170511e+06</td>\n",
       "      <td>1.089648e+06</td>\n",
       "      <td>1.159496e+06</td>\n",
       "      <td>1.170511e+06</td>\n",
       "      <td>7.654090e+05</td>\n",
       "      <td>6.716920e+05</td>\n",
       "      <td>1.170511e+06</td>\n",
       "      <td>1.170511e+06</td>\n",
       "      <td>1.170511e+06</td>\n",
       "      <td>...</td>\n",
       "      <td>1.170511e+06</td>\n",
       "      <td>1.170511e+06</td>\n",
       "      <td>1.170511e+06</td>\n",
       "      <td>1.170511e+06</td>\n",
       "      <td>1.170511e+06</td>\n",
       "      <td>1.170511e+06</td>\n",
       "      <td>1.170511e+06</td>\n",
       "      <td>1.170511e+06</td>\n",
       "      <td>1.170511e+06</td>\n",
       "      <td>1.170511e+06</td>\n",
       "    </tr>\n",
       "    <tr>\n",
       "      <th>mean</th>\n",
       "      <td>7.886616e-16</td>\n",
       "      <td>5.623585e-16</td>\n",
       "      <td>2.277810e-15</td>\n",
       "      <td>6.990858e-17</td>\n",
       "      <td>-1.662794e-16</td>\n",
       "      <td>-1.839406e-15</td>\n",
       "      <td>-4.531099e-16</td>\n",
       "      <td>3.060458e-02</td>\n",
       "      <td>2.669774e-03</td>\n",
       "      <td>4.469843e-02</td>\n",
       "      <td>...</td>\n",
       "      <td>1.188626e-02</td>\n",
       "      <td>9.524900e-02</td>\n",
       "      <td>1.127234e-01</td>\n",
       "      <td>2.385283e-03</td>\n",
       "      <td>1.999366e-01</td>\n",
       "      <td>1.029465e-03</td>\n",
       "      <td>2.231162e-02</td>\n",
       "      <td>1.127704e-01</td>\n",
       "      <td>1.045526e-02</td>\n",
       "      <td>1.953153e+00</td>\n",
       "    </tr>\n",
       "    <tr>\n",
       "      <th>std</th>\n",
       "      <td>1.000000e+00</td>\n",
       "      <td>1.000000e+00</td>\n",
       "      <td>1.000000e+00</td>\n",
       "      <td>1.000000e+00</td>\n",
       "      <td>1.000000e+00</td>\n",
       "      <td>1.000001e+00</td>\n",
       "      <td>1.000001e+00</td>\n",
       "      <td>1.722439e-01</td>\n",
       "      <td>5.160086e-02</td>\n",
       "      <td>2.066410e-01</td>\n",
       "      <td>...</td>\n",
       "      <td>1.083743e-01</td>\n",
       "      <td>2.935587e-01</td>\n",
       "      <td>3.162545e-01</td>\n",
       "      <td>4.878110e-02</td>\n",
       "      <td>3.999526e-01</td>\n",
       "      <td>3.206877e-02</td>\n",
       "      <td>1.476951e-01</td>\n",
       "      <td>3.163121e-01</td>\n",
       "      <td>1.017151e-01</td>\n",
       "      <td>1.541950e+00</td>\n",
       "    </tr>\n",
       "    <tr>\n",
       "      <th>min</th>\n",
       "      <td>-1.602987e+00</td>\n",
       "      <td>-7.012255e+00</td>\n",
       "      <td>-3.532553e+00</td>\n",
       "      <td>-9.354556e-02</td>\n",
       "      <td>-2.060766e+00</td>\n",
       "      <td>-2.818677e+00</td>\n",
       "      <td>-5.677591e-01</td>\n",
       "      <td>0.000000e+00</td>\n",
       "      <td>0.000000e+00</td>\n",
       "      <td>0.000000e+00</td>\n",
       "      <td>...</td>\n",
       "      <td>0.000000e+00</td>\n",
       "      <td>0.000000e+00</td>\n",
       "      <td>0.000000e+00</td>\n",
       "      <td>0.000000e+00</td>\n",
       "      <td>0.000000e+00</td>\n",
       "      <td>0.000000e+00</td>\n",
       "      <td>0.000000e+00</td>\n",
       "      <td>0.000000e+00</td>\n",
       "      <td>0.000000e+00</td>\n",
       "      <td>0.000000e+00</td>\n",
       "    </tr>\n",
       "    <tr>\n",
       "      <th>25%</th>\n",
       "      <td>-8.068039e-01</td>\n",
       "      <td>-6.867329e-01</td>\n",
       "      <td>-8.513449e-01</td>\n",
       "      <td>-8.583555e-02</td>\n",
       "      <td>-7.689429e-01</td>\n",
       "      <td>-6.943523e-01</td>\n",
       "      <td>-2.651927e-01</td>\n",
       "      <td>0.000000e+00</td>\n",
       "      <td>0.000000e+00</td>\n",
       "      <td>0.000000e+00</td>\n",
       "      <td>...</td>\n",
       "      <td>0.000000e+00</td>\n",
       "      <td>0.000000e+00</td>\n",
       "      <td>0.000000e+00</td>\n",
       "      <td>0.000000e+00</td>\n",
       "      <td>0.000000e+00</td>\n",
       "      <td>0.000000e+00</td>\n",
       "      <td>0.000000e+00</td>\n",
       "      <td>0.000000e+00</td>\n",
       "      <td>0.000000e+00</td>\n",
       "      <td>1.000000e+00</td>\n",
       "    </tr>\n",
       "    <tr>\n",
       "      <th>50%</th>\n",
       "      <td>-6.116305e-02</td>\n",
       "      <td>2.225317e-01</td>\n",
       "      <td>-1.258040e-01</td>\n",
       "      <td>-8.119519e-02</td>\n",
       "      <td>-9.640332e-02</td>\n",
       "      <td>-3.958801e-02</td>\n",
       "      <td>-1.831241e-01</td>\n",
       "      <td>0.000000e+00</td>\n",
       "      <td>0.000000e+00</td>\n",
       "      <td>0.000000e+00</td>\n",
       "      <td>...</td>\n",
       "      <td>0.000000e+00</td>\n",
       "      <td>0.000000e+00</td>\n",
       "      <td>0.000000e+00</td>\n",
       "      <td>0.000000e+00</td>\n",
       "      <td>0.000000e+00</td>\n",
       "      <td>0.000000e+00</td>\n",
       "      <td>0.000000e+00</td>\n",
       "      <td>0.000000e+00</td>\n",
       "      <td>0.000000e+00</td>\n",
       "      <td>2.000000e+00</td>\n",
       "    </tr>\n",
       "    <tr>\n",
       "      <th>75%</th>\n",
       "      <td>8.103266e-01</td>\n",
       "      <td>7.073019e-01</td>\n",
       "      <td>9.141693e-01</td>\n",
       "      <td>-7.138176e-02</td>\n",
       "      <td>6.957359e-01</td>\n",
       "      <td>6.973020e-01</td>\n",
       "      <td>-3.203230e-02</td>\n",
       "      <td>0.000000e+00</td>\n",
       "      <td>0.000000e+00</td>\n",
       "      <td>0.000000e+00</td>\n",
       "      <td>...</td>\n",
       "      <td>0.000000e+00</td>\n",
       "      <td>0.000000e+00</td>\n",
       "      <td>0.000000e+00</td>\n",
       "      <td>0.000000e+00</td>\n",
       "      <td>0.000000e+00</td>\n",
       "      <td>0.000000e+00</td>\n",
       "      <td>0.000000e+00</td>\n",
       "      <td>0.000000e+00</td>\n",
       "      <td>0.000000e+00</td>\n",
       "      <td>2.000000e+00</td>\n",
       "    </tr>\n",
       "    <tr>\n",
       "      <th>max</th>\n",
       "      <td>1.766938e+00</td>\n",
       "      <td>5.105272e+00</td>\n",
       "      <td>6.906218e+00</td>\n",
       "      <td>1.745706e+01</td>\n",
       "      <td>3.347322e+00</td>\n",
       "      <td>5.116431e+00</td>\n",
       "      <td>3.439509e+01</td>\n",
       "      <td>1.000000e+00</td>\n",
       "      <td>1.000000e+00</td>\n",
       "      <td>1.000000e+00</td>\n",
       "      <td>...</td>\n",
       "      <td>1.000000e+00</td>\n",
       "      <td>1.000000e+00</td>\n",
       "      <td>1.000000e+00</td>\n",
       "      <td>1.000000e+00</td>\n",
       "      <td>1.000000e+00</td>\n",
       "      <td>1.000000e+00</td>\n",
       "      <td>1.000000e+00</td>\n",
       "      <td>1.000000e+00</td>\n",
       "      <td>1.000000e+00</td>\n",
       "      <td>1.100000e+01</td>\n",
       "    </tr>\n",
       "  </tbody>\n",
       "</table>\n",
       "<p>8 rows × 21 columns</p>\n",
       "</div>"
      ],
      "text/plain": [
       "             VSHALE  RHOB_COMBINED           DTC          RDEP           TVD  \\\n",
       "count  1.170511e+06   1.170511e+06  1.089648e+06  1.159496e+06  1.170511e+06   \n",
       "mean   7.886616e-16   5.623585e-16  2.277810e-15  6.990858e-17 -1.662794e-16   \n",
       "std    1.000000e+00   1.000000e+00  1.000000e+00  1.000000e+00  1.000000e+00   \n",
       "min   -1.602987e+00  -7.012255e+00 -3.532553e+00 -9.354556e-02 -2.060766e+00   \n",
       "25%   -8.068039e-01  -6.867329e-01 -8.513449e-01 -8.583555e-02 -7.689429e-01   \n",
       "50%   -6.116305e-02   2.225317e-01 -1.258040e-01 -8.119519e-02 -9.640332e-02   \n",
       "75%    8.103266e-01   7.073019e-01  9.141693e-01 -7.138176e-02  6.957359e-01   \n",
       "max    1.766938e+00   5.105272e+00  6.906218e+00  1.745706e+01  3.347322e+00   \n",
       "\n",
       "               NPHI           PEF      BAAT GP.  BOKNFJORD GP.  \\\n",
       "count  7.654090e+05  6.716920e+05  1.170511e+06   1.170511e+06   \n",
       "mean  -1.839406e-15 -4.531099e-16  3.060458e-02   2.669774e-03   \n",
       "std    1.000001e+00  1.000001e+00  1.722439e-01   5.160086e-02   \n",
       "min   -2.818677e+00 -5.677591e-01  0.000000e+00   0.000000e+00   \n",
       "25%   -6.943523e-01 -2.651927e-01  0.000000e+00   0.000000e+00   \n",
       "50%   -3.958801e-02 -1.831241e-01  0.000000e+00   0.000000e+00   \n",
       "75%    6.973020e-01 -3.203230e-02  0.000000e+00   0.000000e+00   \n",
       "max    5.116431e+00  3.439509e+01  1.000000e+00   1.000000e+00   \n",
       "\n",
       "       CROMER KNOLL GP.  ...     HEGRE GP.  NORDLAND GP.  ROGALAND GP.  \\\n",
       "count      1.170511e+06  ...  1.170511e+06  1.170511e+06  1.170511e+06   \n",
       "mean       4.469843e-02  ...  1.188626e-02  9.524900e-02  1.127234e-01   \n",
       "std        2.066410e-01  ...  1.083743e-01  2.935587e-01  3.162545e-01   \n",
       "min        0.000000e+00  ...  0.000000e+00  0.000000e+00  0.000000e+00   \n",
       "25%        0.000000e+00  ...  0.000000e+00  0.000000e+00  0.000000e+00   \n",
       "50%        0.000000e+00  ...  0.000000e+00  0.000000e+00  0.000000e+00   \n",
       "75%        0.000000e+00  ...  0.000000e+00  0.000000e+00  0.000000e+00   \n",
       "max        1.000000e+00  ...  1.000000e+00  1.000000e+00  1.000000e+00   \n",
       "\n",
       "       ROTLIEGENDES GP.  SHETLAND GP.      TYNE GP.  VESTLAND GP.  \\\n",
       "count      1.170511e+06  1.170511e+06  1.170511e+06  1.170511e+06   \n",
       "mean       2.385283e-03  1.999366e-01  1.029465e-03  2.231162e-02   \n",
       "std        4.878110e-02  3.999526e-01  3.206877e-02  1.476951e-01   \n",
       "min        0.000000e+00  0.000000e+00  0.000000e+00  0.000000e+00   \n",
       "25%        0.000000e+00  0.000000e+00  0.000000e+00  0.000000e+00   \n",
       "50%        0.000000e+00  0.000000e+00  0.000000e+00  0.000000e+00   \n",
       "75%        0.000000e+00  0.000000e+00  0.000000e+00  0.000000e+00   \n",
       "max        1.000000e+00  1.000000e+00  1.000000e+00  1.000000e+00   \n",
       "\n",
       "         VIKING GP.  ZECHSTEIN GP.  FORCE_2020_LITHOFACIES_LITHOLOGY  \n",
       "count  1.170511e+06   1.170511e+06                      1.170511e+06  \n",
       "mean   1.127704e-01   1.045526e-02                      1.953153e+00  \n",
       "std    3.163121e-01   1.017151e-01                      1.541950e+00  \n",
       "min    0.000000e+00   0.000000e+00                      0.000000e+00  \n",
       "25%    0.000000e+00   0.000000e+00                      1.000000e+00  \n",
       "50%    0.000000e+00   0.000000e+00                      2.000000e+00  \n",
       "75%    0.000000e+00   0.000000e+00                      2.000000e+00  \n",
       "max    1.000000e+00   1.000000e+00                      1.100000e+01  \n",
       "\n",
       "[8 rows x 21 columns]"
      ]
     },
     "execution_count": 64,
     "metadata": {},
     "output_type": "execute_result"
    }
   ],
   "source": [
    "nphi_data.describe()"
   ]
  },
  {
   "cell_type": "code",
   "execution_count": 68,
   "metadata": {},
   "outputs": [],
   "source": [
    "modellingdata = nphi_data.loc[:,['RHOB_COMBINED', 'RDEP', 'DTC', 'VSHALE']]"
   ]
  },
  {
   "cell_type": "code",
   "execution_count": 69,
   "metadata": {},
   "outputs": [],
   "source": [
    "modellingdata['NPHI'] = data['NPHI']"
   ]
  },
  {
   "cell_type": "code",
   "execution_count": 70,
   "metadata": {},
   "outputs": [
    {
     "data": {
      "text/plain": [
       "<matplotlib.axes._subplots.AxesSubplot at 0x198a31a30c8>"
      ]
     },
     "execution_count": 70,
     "metadata": {},
     "output_type": "execute_result"
    },
    {
     "data": {
      "image/png": "[encoded data removed]",
      "text/plain": [
       "<Figure size 1728x720 with 3 Axes>"
      ]
     },
     "metadata": {
      "needs_background": "light"
     },
     "output_type": "display_data"
    }
   ],
   "source": [
    "missingno.bar(modellingdata)"
   ]
  },
  {
   "cell_type": "code",
   "execution_count": 71,
   "metadata": {},
   "outputs": [
    {
     "data": {
      "text/html": [
       "<div>\n",
       "<style scoped>\n",
       "    .dataframe tbody tr th:only-of-type {\n",
       "        vertical-align: middle;\n",
       "    }\n",
       "\n",
       "    .dataframe tbody tr th {\n",
       "        vertical-align: top;\n",
       "    }\n",
       "\n",
       "    .dataframe thead th {\n",
       "        text-align: right;\n",
       "    }\n",
       "</style>\n",
       "<table border=\"1\" class=\"dataframe\">\n",
       "  <thead>\n",
       "    <tr style=\"text-align: right;\">\n",
       "      <th></th>\n",
       "      <th>RHOB_COMBINED</th>\n",
       "      <th>RDEP</th>\n",
       "      <th>DTC</th>\n",
       "      <th>VSHALE</th>\n",
       "      <th>NPHI</th>\n",
       "    </tr>\n",
       "  </thead>\n",
       "  <tbody>\n",
       "    <tr>\n",
       "      <th>count</th>\n",
       "      <td>1.170511e+06</td>\n",
       "      <td>1.159496e+06</td>\n",
       "      <td>1.089648e+06</td>\n",
       "      <td>1.170511e+06</td>\n",
       "      <td>765409.000000</td>\n",
       "    </tr>\n",
       "    <tr>\n",
       "      <th>mean</th>\n",
       "      <td>5.623585e-16</td>\n",
       "      <td>6.990858e-17</td>\n",
       "      <td>2.277810e-15</td>\n",
       "      <td>7.886616e-16</td>\n",
       "      <td>0.331966</td>\n",
       "    </tr>\n",
       "    <tr>\n",
       "      <th>std</th>\n",
       "      <td>1.000000e+00</td>\n",
       "      <td>1.000000e+00</td>\n",
       "      <td>1.000000e+00</td>\n",
       "      <td>1.000000e+00</td>\n",
       "      <td>0.130483</td>\n",
       "    </tr>\n",
       "    <tr>\n",
       "      <th>min</th>\n",
       "      <td>-7.012255e+00</td>\n",
       "      <td>-9.354556e-02</td>\n",
       "      <td>-3.532553e+00</td>\n",
       "      <td>-1.602987e+00</td>\n",
       "      <td>-0.035822</td>\n",
       "    </tr>\n",
       "    <tr>\n",
       "      <th>25%</th>\n",
       "      <td>-6.867329e-01</td>\n",
       "      <td>-8.583555e-02</td>\n",
       "      <td>-8.513449e-01</td>\n",
       "      <td>-8.068039e-01</td>\n",
       "      <td>0.241365</td>\n",
       "    </tr>\n",
       "    <tr>\n",
       "      <th>50%</th>\n",
       "      <td>2.225317e-01</td>\n",
       "      <td>-8.119519e-02</td>\n",
       "      <td>-1.258040e-01</td>\n",
       "      <td>-6.116305e-02</td>\n",
       "      <td>0.326800</td>\n",
       "    </tr>\n",
       "    <tr>\n",
       "      <th>75%</th>\n",
       "      <td>7.073019e-01</td>\n",
       "      <td>-7.138176e-02</td>\n",
       "      <td>9.141693e-01</td>\n",
       "      <td>8.103266e-01</td>\n",
       "      <td>0.422951</td>\n",
       "    </tr>\n",
       "    <tr>\n",
       "      <th>max</th>\n",
       "      <td>5.105272e+00</td>\n",
       "      <td>1.745706e+01</td>\n",
       "      <td>6.906218e+00</td>\n",
       "      <td>1.766938e+00</td>\n",
       "      <td>0.999570</td>\n",
       "    </tr>\n",
       "  </tbody>\n",
       "</table>\n",
       "</div>"
      ],
      "text/plain": [
       "       RHOB_COMBINED          RDEP           DTC        VSHALE           NPHI\n",
       "count   1.170511e+06  1.159496e+06  1.089648e+06  1.170511e+06  765409.000000\n",
       "mean    5.623585e-16  6.990858e-17  2.277810e-15  7.886616e-16       0.331966\n",
       "std     1.000000e+00  1.000000e+00  1.000000e+00  1.000000e+00       0.130483\n",
       "min    -7.012255e+00 -9.354556e-02 -3.532553e+00 -1.602987e+00      -0.035822\n",
       "25%    -6.867329e-01 -8.583555e-02 -8.513449e-01 -8.068039e-01       0.241365\n",
       "50%     2.225317e-01 -8.119519e-02 -1.258040e-01 -6.116305e-02       0.326800\n",
       "75%     7.073019e-01 -7.138176e-02  9.141693e-01  8.103266e-01       0.422951\n",
       "max     5.105272e+00  1.745706e+01  6.906218e+00  1.766938e+00       0.999570"
      ]
     },
     "execution_count": 71,
     "metadata": {},
     "output_type": "execute_result"
    }
   ],
   "source": [
    "modellingdata.describe()"
   ]
  },
  {
   "cell_type": "code",
   "execution_count": 72,
   "metadata": {},
   "outputs": [],
   "source": [
    "modellingdata.dropna(inplace=True)"
   ]
  },
  {
   "cell_type": "code",
   "execution_count": 78,
   "metadata": {},
   "outputs": [
    {
     "data": {
      "text/plain": [
       "<matplotlib.axes._subplots.AxesSubplot at 0x1989c518148>"
      ]
     },
     "execution_count": 78,
     "metadata": {},
     "output_type": "execute_result"
    },
    {
     "data": {
      "image/png": "[encoded data removed]",
      "text/plain": [
       "<Figure size 1728x720 with 3 Axes>"
      ]
     },
     "metadata": {
      "needs_background": "light"
     },
     "output_type": "display_data"
    }
   ],
   "source": [
    "missingno.bar(modellingdata)"
   ]
  },
  {
   "cell_type": "code",
   "execution_count": 74,
   "metadata": {},
   "outputs": [],
   "source": [
    "from xgboost.sklearn import XGBRegressor\n",
    "from sklearn.linear_model import LinearRegression\n",
    "from sklearn.ensemble import  RandomForestRegressor"
   ]
  },
  {
   "cell_type": "code",
   "execution_count": 75,
   "metadata": {},
   "outputs": [],
   "source": [
    "X = modellingdata.loc[:,['VSHALE', 'RHOB_COMBINED', 'TVD','DTC']]\n",
    "y = modellingdata.loc[:,'NPHI']"
   ]
  },
  {
   "cell_type": "code",
   "execution_count": null,
   "metadata": {},
   "outputs": [],
   "source": [
    "missingno"
   ]
  },
  {
   "cell_type": "code",
   "execution_count": 76,
   "metadata": {},
   "outputs": [],
   "source": [
    "X_train, X_test, y_train, y_test = train_test_split(X, y, test_size=0.3, random_state=42)"
   ]
  },
  {
   "cell_type": "code",
   "execution_count": 77,
   "metadata": {},
   "outputs": [
    {
     "ename": "ValueError",
     "evalue": "Input contains NaN, infinity or a value too large for dtype('float64').",
     "output_type": "error",
     "traceback": [
      "\u001b[1;31m---------------------------------------------------------------------------\u001b[0m",
      "\u001b[1;31mValueError\u001b[0m                                Traceback (most recent call last)",
      "\u001b[1;32m<ipython-input-77-81bed72262f8>\u001b[0m in \u001b[0;36m<module>\u001b[1;34m\u001b[0m\n\u001b[0;32m      1\u001b[0m \u001b[0mmodel_LR\u001b[0m\u001b[1;33m=\u001b[0m\u001b[0mLinearRegression\u001b[0m\u001b[1;33m(\u001b[0m\u001b[1;33m)\u001b[0m\u001b[1;33m\u001b[0m\u001b[1;33m\u001b[0m\u001b[0m\n\u001b[1;32m----> 2\u001b[1;33m \u001b[0mmodel_LR\u001b[0m\u001b[1;33m.\u001b[0m\u001b[0mfit\u001b[0m\u001b[1;33m(\u001b[0m\u001b[0mX_train\u001b[0m\u001b[1;33m,\u001b[0m \u001b[0my_train\u001b[0m\u001b[1;33m)\u001b[0m\u001b[1;33m\u001b[0m\u001b[1;33m\u001b[0m\u001b[0m\n\u001b[0m",
      "\u001b[1;32m~\\AppData\\Local\\Continuum\\anaconda3\\lib\\site-packages\\sklearn\\linear_model\\base.py\u001b[0m in \u001b[0;36mfit\u001b[1;34m(self, X, y, sample_weight)\u001b[0m\n\u001b[0;32m    461\u001b[0m         \u001b[0mn_jobs_\u001b[0m \u001b[1;33m=\u001b[0m \u001b[0mself\u001b[0m\u001b[1;33m.\u001b[0m\u001b[0mn_jobs\u001b[0m\u001b[1;33m\u001b[0m\u001b[1;33m\u001b[0m\u001b[0m\n\u001b[0;32m    462\u001b[0m         X, y = check_X_y(X, y, accept_sparse=['csr', 'csc', 'coo'],\n\u001b[1;32m--> 463\u001b[1;33m                          y_numeric=True, multi_output=True)\n\u001b[0m\u001b[0;32m    464\u001b[0m \u001b[1;33m\u001b[0m\u001b[0m\n\u001b[0;32m    465\u001b[0m         \u001b[1;32mif\u001b[0m \u001b[0msample_weight\u001b[0m \u001b[1;32mis\u001b[0m \u001b[1;32mnot\u001b[0m \u001b[1;32mNone\u001b[0m \u001b[1;32mand\u001b[0m \u001b[0mnp\u001b[0m\u001b[1;33m.\u001b[0m\u001b[0matleast_1d\u001b[0m\u001b[1;33m(\u001b[0m\u001b[0msample_weight\u001b[0m\u001b[1;33m)\u001b[0m\u001b[1;33m.\u001b[0m\u001b[0mndim\u001b[0m \u001b[1;33m>\u001b[0m \u001b[1;36m1\u001b[0m\u001b[1;33m:\u001b[0m\u001b[1;33m\u001b[0m\u001b[1;33m\u001b[0m\u001b[0m\n",
      "\u001b[1;32m~\\AppData\\Local\\Continuum\\anaconda3\\lib\\site-packages\\sklearn\\utils\\validation.py\u001b[0m in \u001b[0;36mcheck_X_y\u001b[1;34m(X, y, accept_sparse, accept_large_sparse, dtype, order, copy, force_all_finite, ensure_2d, allow_nd, multi_output, ensure_min_samples, ensure_min_features, y_numeric, warn_on_dtype, estimator)\u001b[0m\n\u001b[0;32m    717\u001b[0m                     \u001b[0mensure_min_features\u001b[0m\u001b[1;33m=\u001b[0m\u001b[0mensure_min_features\u001b[0m\u001b[1;33m,\u001b[0m\u001b[1;33m\u001b[0m\u001b[1;33m\u001b[0m\u001b[0m\n\u001b[0;32m    718\u001b[0m                     \u001b[0mwarn_on_dtype\u001b[0m\u001b[1;33m=\u001b[0m\u001b[0mwarn_on_dtype\u001b[0m\u001b[1;33m,\u001b[0m\u001b[1;33m\u001b[0m\u001b[1;33m\u001b[0m\u001b[0m\n\u001b[1;32m--> 719\u001b[1;33m                     estimator=estimator)\n\u001b[0m\u001b[0;32m    720\u001b[0m     \u001b[1;32mif\u001b[0m \u001b[0mmulti_output\u001b[0m\u001b[1;33m:\u001b[0m\u001b[1;33m\u001b[0m\u001b[1;33m\u001b[0m\u001b[0m\n\u001b[0;32m    721\u001b[0m         y = check_array(y, 'csr', force_all_finite=True, ensure_2d=False,\n",
      "\u001b[1;32m~\\AppData\\Local\\Continuum\\anaconda3\\lib\\site-packages\\sklearn\\utils\\validation.py\u001b[0m in \u001b[0;36mcheck_array\u001b[1;34m(array, accept_sparse, accept_large_sparse, dtype, order, copy, force_all_finite, ensure_2d, allow_nd, ensure_min_samples, ensure_min_features, warn_on_dtype, estimator)\u001b[0m\n\u001b[0;32m    540\u001b[0m         \u001b[1;32mif\u001b[0m \u001b[0mforce_all_finite\u001b[0m\u001b[1;33m:\u001b[0m\u001b[1;33m\u001b[0m\u001b[1;33m\u001b[0m\u001b[0m\n\u001b[0;32m    541\u001b[0m             _assert_all_finite(array,\n\u001b[1;32m--> 542\u001b[1;33m                                allow_nan=force_all_finite == 'allow-nan')\n\u001b[0m\u001b[0;32m    543\u001b[0m \u001b[1;33m\u001b[0m\u001b[0m\n\u001b[0;32m    544\u001b[0m     \u001b[1;32mif\u001b[0m \u001b[0mensure_min_samples\u001b[0m \u001b[1;33m>\u001b[0m \u001b[1;36m0\u001b[0m\u001b[1;33m:\u001b[0m\u001b[1;33m\u001b[0m\u001b[1;33m\u001b[0m\u001b[0m\n",
      "\u001b[1;32m~\\AppData\\Local\\Continuum\\anaconda3\\lib\\site-packages\\sklearn\\utils\\validation.py\u001b[0m in \u001b[0;36m_assert_all_finite\u001b[1;34m(X, allow_nan)\u001b[0m\n\u001b[0;32m     54\u001b[0m                 not allow_nan and not np.isfinite(X).all()):\n\u001b[0;32m     55\u001b[0m             \u001b[0mtype_err\u001b[0m \u001b[1;33m=\u001b[0m \u001b[1;34m'infinity'\u001b[0m \u001b[1;32mif\u001b[0m \u001b[0mallow_nan\u001b[0m \u001b[1;32melse\u001b[0m \u001b[1;34m'NaN, infinity'\u001b[0m\u001b[1;33m\u001b[0m\u001b[1;33m\u001b[0m\u001b[0m\n\u001b[1;32m---> 56\u001b[1;33m             \u001b[1;32mraise\u001b[0m \u001b[0mValueError\u001b[0m\u001b[1;33m(\u001b[0m\u001b[0mmsg_err\u001b[0m\u001b[1;33m.\u001b[0m\u001b[0mformat\u001b[0m\u001b[1;33m(\u001b[0m\u001b[0mtype_err\u001b[0m\u001b[1;33m,\u001b[0m \u001b[0mX\u001b[0m\u001b[1;33m.\u001b[0m\u001b[0mdtype\u001b[0m\u001b[1;33m)\u001b[0m\u001b[1;33m)\u001b[0m\u001b[1;33m\u001b[0m\u001b[1;33m\u001b[0m\u001b[0m\n\u001b[0m\u001b[0;32m     57\u001b[0m     \u001b[1;31m# for object dtype data, we only check for NaNs (GH-13254)\u001b[0m\u001b[1;33m\u001b[0m\u001b[1;33m\u001b[0m\u001b[1;33m\u001b[0m\u001b[0m\n\u001b[0;32m     58\u001b[0m     \u001b[1;32melif\u001b[0m \u001b[0mX\u001b[0m\u001b[1;33m.\u001b[0m\u001b[0mdtype\u001b[0m \u001b[1;33m==\u001b[0m \u001b[0mnp\u001b[0m\u001b[1;33m.\u001b[0m\u001b[0mdtype\u001b[0m\u001b[1;33m(\u001b[0m\u001b[1;34m'object'\u001b[0m\u001b[1;33m)\u001b[0m \u001b[1;32mand\u001b[0m \u001b[1;32mnot\u001b[0m \u001b[0mallow_nan\u001b[0m\u001b[1;33m:\u001b[0m\u001b[1;33m\u001b[0m\u001b[1;33m\u001b[0m\u001b[0m\n",
      "\u001b[1;31mValueError\u001b[0m: Input contains NaN, infinity or a value too large for dtype('float64')."
     ]
    }
   ],
   "source": [
    "model_LR=LinearRegression()\n",
    "model_LR.fit(X_train, y_train)"
   ]
  },
  {
   "cell_type": "code",
   "execution_count": 19,
   "metadata": {},
   "outputs": [],
   "source": [
    "y_pred_LR_test = model_LR.predict(X_test)"
   ]
  },
  {
   "cell_type": "code",
   "execution_count": 41,
   "metadata": {},
   "outputs": [
    {
     "data": {
      "text/plain": [
       "(-5, 5)"
      ]
     },
     "execution_count": 41,
     "metadata": {},
     "output_type": "execute_result"
    },
    {
     "data": {
      "image/png": "[encoded data removed]",
      "text/plain": [
       "<Figure size 432x288 with 1 Axes>"
      ]
     },
     "metadata": {
      "needs_background": "light"
     },
     "output_type": "display_data"
    }
   ],
   "source": [
    "plt.scatter(y_test, y_pred_LR_test)\n",
    "plt.xlim(-5,5)\n",
    "plt.ylim(-5,5)"
   ]
  },
  {
   "cell_type": "code",
   "execution_count": 22,
   "metadata": {},
   "outputs": [
    {
     "name": "stderr",
     "output_type": "stream",
     "text": [
      "C:\\Users\\BANAMZ\\AppData\\Local\\Continuum\\anaconda3\\lib\\site-packages\\sklearn\\ensemble\\forest.py:245: FutureWarning: The default value of n_estimators will change from 10 in version 0.20 to 100 in 0.22.\n",
      "  \"10 in version 0.20 to 100 in 0.22.\", FutureWarning)\n"
     ]
    },
    {
     "data": {
      "text/plain": [
       "RandomForestRegressor(bootstrap=True, criterion='mse', max_depth=200,\n",
       "                      max_features='auto', max_leaf_nodes=None,\n",
       "                      min_impurity_decrease=0.0, min_impurity_split=None,\n",
       "                      min_samples_leaf=1, min_samples_split=2,\n",
       "                      min_weight_fraction_leaf=0.0, n_estimators=10,\n",
       "                      n_jobs=None, oob_score=False, random_state=None,\n",
       "                      verbose=0, warm_start=False)"
      ]
     },
     "execution_count": 22,
     "metadata": {},
     "output_type": "execute_result"
    }
   ],
   "source": [
    "model_RFR = RandomForestRegressor(max_depth=200)\n",
    "model_RFR.fit(X_train, y_train)"
   ]
  },
  {
   "cell_type": "code",
   "execution_count": 23,
   "metadata": {},
   "outputs": [],
   "source": [
    "y_pred_RFR_test = model_RFR.predict(X_test)"
   ]
  },
  {
   "cell_type": "code",
   "execution_count": 40,
   "metadata": {},
   "outputs": [
    {
     "data": {
      "text/plain": [
       "(-5, 5)"
      ]
     },
     "execution_count": 40,
     "metadata": {},
     "output_type": "execute_result"
    },
    {
     "data": {
      "image/png": "[encoded data removed]",
      "text/plain": [
       "<Figure size 432x288 with 1 Axes>"
      ]
     },
     "metadata": {
      "needs_background": "light"
     },
     "output_type": "display_data"
    }
   ],
   "source": [
    "plt.scatter(y_test, y_pred_RFR_test)\n",
    "plt.xlim(-5,5)\n",
    "plt.ylim(-5,5)"
   ]
  },
  {
   "cell_type": "code",
   "execution_count": null,
   "metadata": {},
   "outputs": [],
   "source": []
  }
 ],
 "metadata": {
  "kernelspec": {
   "display_name": "Python 3.7.6 64-bit ('base': conda)",
   "language": "python",
   "name": "python37664bitbasecondad5913ed8f83b46ff8983032edb9dade7"
  },
  "language_info": {
   "codemirror_mode": {
    "name": "ipython",
    "version": 3
   },
   "file_extension": ".py",
   "mimetype": "text/x-python",
   "name": "python",
   "nbconvert_exporter": "python",
   "pygments_lexer": "ipython3",
   "version": "3.7.6"
  }
 },
 "nbformat": 4,
 "nbformat_minor": 4
}
