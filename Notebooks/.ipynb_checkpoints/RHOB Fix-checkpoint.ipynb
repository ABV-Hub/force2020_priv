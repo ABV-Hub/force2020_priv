{
 "cells": [
  {
   "cell_type": "code",
   "execution_count": 1,
   "metadata": {},
   "outputs": [],
   "source": [
    "import pandas as pd\n",
    "import numpy as np\n",
    "import pickle\n",
    "from sklearn.model_selection import train_test_split\n",
    "from sklearn.metrics import accuracy_score\n",
    "from xgboost.sklearn import XGBClassifier\n",
    "import matplotlib.pyplot as plt\n",
    "\n",
    "import missingno"
   ]
  },
  {
   "cell_type": "code",
   "execution_count": 2,
   "metadata": {},
   "outputs": [],
   "source": [
    "data = pd.read_pickle('../pickles/clean_training_data')"
   ]
  },
  {
   "cell_type": "code",
   "execution_count": 3,
   "metadata": {},
   "outputs": [
    {
     "data": {
      "text/html": [
       "<div>\n",
       "<style scoped>\n",
       "    .dataframe tbody tr th:only-of-type {\n",
       "        vertical-align: middle;\n",
       "    }\n",
       "\n",
       "    .dataframe tbody tr th {\n",
       "        vertical-align: top;\n",
       "    }\n",
       "\n",
       "    .dataframe thead th {\n",
       "        text-align: right;\n",
       "    }\n",
       "</style>\n",
       "<table border=\"1\" class=\"dataframe\">\n",
       "  <thead>\n",
       "    <tr style=\"text-align: right;\">\n",
       "      <th></th>\n",
       "      <th>WELL</th>\n",
       "      <th>DEPTH_MD</th>\n",
       "      <th>CALI</th>\n",
       "      <th>RDEP</th>\n",
       "      <th>RMED</th>\n",
       "      <th>DRHO</th>\n",
       "      <th>GR</th>\n",
       "      <th>RHOB</th>\n",
       "      <th>NPHI</th>\n",
       "      <th>PEF</th>\n",
       "      <th>...</th>\n",
       "      <th>FORCE_2020_LITHOFACIES_LITHOLOGY</th>\n",
       "      <th>95_PERC</th>\n",
       "      <th>05_PERC</th>\n",
       "      <th>GR_NORM</th>\n",
       "      <th>VSHALE</th>\n",
       "      <th>BS_FIX</th>\n",
       "      <th>CALI_R_MEAN</th>\n",
       "      <th>BS_FROM_CALI</th>\n",
       "      <th>BS_COMB</th>\n",
       "      <th>DIFF_CAL</th>\n",
       "    </tr>\n",
       "  </thead>\n",
       "  <tbody>\n",
       "    <tr>\n",
       "      <th>0</th>\n",
       "      <td>15/9-13</td>\n",
       "      <td>494.528</td>\n",
       "      <td>19.480835</td>\n",
       "      <td>1.798681</td>\n",
       "      <td>1.611410</td>\n",
       "      <td>-0.574928</td>\n",
       "      <td>80.200851</td>\n",
       "      <td>1.884186</td>\n",
       "      <td>NaN</td>\n",
       "      <td>20.915468</td>\n",
       "      <td>...</td>\n",
       "      <td>2</td>\n",
       "      <td>101.287117</td>\n",
       "      <td>14.6615</td>\n",
       "      <td>112.004200</td>\n",
       "      <td>0.756582</td>\n",
       "      <td>NaN</td>\n",
       "      <td>NaN</td>\n",
       "      <td>17.5</td>\n",
       "      <td>17.5</td>\n",
       "      <td>1.980835</td>\n",
       "    </tr>\n",
       "    <tr>\n",
       "      <th>1</th>\n",
       "      <td>15/9-13</td>\n",
       "      <td>494.680</td>\n",
       "      <td>19.468800</td>\n",
       "      <td>1.795641</td>\n",
       "      <td>1.618070</td>\n",
       "      <td>-0.570188</td>\n",
       "      <td>79.262886</td>\n",
       "      <td>1.889794</td>\n",
       "      <td>NaN</td>\n",
       "      <td>19.383013</td>\n",
       "      <td>...</td>\n",
       "      <td>2</td>\n",
       "      <td>101.287117</td>\n",
       "      <td>14.6615</td>\n",
       "      <td>111.128597</td>\n",
       "      <td>0.745754</td>\n",
       "      <td>NaN</td>\n",
       "      <td>NaN</td>\n",
       "      <td>17.5</td>\n",
       "      <td>17.5</td>\n",
       "      <td>1.968800</td>\n",
       "    </tr>\n",
       "    <tr>\n",
       "      <th>2</th>\n",
       "      <td>15/9-13</td>\n",
       "      <td>494.832</td>\n",
       "      <td>19.468800</td>\n",
       "      <td>1.800733</td>\n",
       "      <td>1.626459</td>\n",
       "      <td>-0.574245</td>\n",
       "      <td>74.821999</td>\n",
       "      <td>1.896523</td>\n",
       "      <td>NaN</td>\n",
       "      <td>22.591518</td>\n",
       "      <td>...</td>\n",
       "      <td>2</td>\n",
       "      <td>101.287117</td>\n",
       "      <td>14.6615</td>\n",
       "      <td>106.982973</td>\n",
       "      <td>0.694489</td>\n",
       "      <td>NaN</td>\n",
       "      <td>NaN</td>\n",
       "      <td>17.5</td>\n",
       "      <td>17.5</td>\n",
       "      <td>1.968800</td>\n",
       "    </tr>\n",
       "    <tr>\n",
       "      <th>3</th>\n",
       "      <td>15/9-13</td>\n",
       "      <td>494.984</td>\n",
       "      <td>19.459282</td>\n",
       "      <td>1.801517</td>\n",
       "      <td>1.621594</td>\n",
       "      <td>-0.586315</td>\n",
       "      <td>72.878922</td>\n",
       "      <td>1.891913</td>\n",
       "      <td>NaN</td>\n",
       "      <td>32.191910</td>\n",
       "      <td>...</td>\n",
       "      <td>2</td>\n",
       "      <td>101.287117</td>\n",
       "      <td>14.6615</td>\n",
       "      <td>105.169086</td>\n",
       "      <td>0.672058</td>\n",
       "      <td>NaN</td>\n",
       "      <td>NaN</td>\n",
       "      <td>17.5</td>\n",
       "      <td>17.5</td>\n",
       "      <td>1.959282</td>\n",
       "    </tr>\n",
       "    <tr>\n",
       "      <th>4</th>\n",
       "      <td>15/9-13</td>\n",
       "      <td>495.136</td>\n",
       "      <td>19.453100</td>\n",
       "      <td>1.795299</td>\n",
       "      <td>1.602679</td>\n",
       "      <td>-0.597914</td>\n",
       "      <td>71.729141</td>\n",
       "      <td>1.880034</td>\n",
       "      <td>NaN</td>\n",
       "      <td>38.495632</td>\n",
       "      <td>...</td>\n",
       "      <td>2</td>\n",
       "      <td>101.287117</td>\n",
       "      <td>14.6615</td>\n",
       "      <td>104.095752</td>\n",
       "      <td>0.658785</td>\n",
       "      <td>NaN</td>\n",
       "      <td>NaN</td>\n",
       "      <td>17.5</td>\n",
       "      <td>17.5</td>\n",
       "      <td>1.953100</td>\n",
       "    </tr>\n",
       "  </tbody>\n",
       "</table>\n",
       "<p>5 rows × 27 columns</p>\n",
       "</div>"
      ],
      "text/plain": [
       "      WELL  DEPTH_MD       CALI      RDEP      RMED      DRHO         GR  \\\n",
       "0  15/9-13   494.528  19.480835  1.798681  1.611410 -0.574928  80.200851   \n",
       "1  15/9-13   494.680  19.468800  1.795641  1.618070 -0.570188  79.262886   \n",
       "2  15/9-13   494.832  19.468800  1.800733  1.626459 -0.574245  74.821999   \n",
       "3  15/9-13   494.984  19.459282  1.801517  1.621594 -0.586315  72.878922   \n",
       "4  15/9-13   495.136  19.453100  1.795299  1.602679 -0.597914  71.729141   \n",
       "\n",
       "       RHOB  NPHI        PEF  ...  FORCE_2020_LITHOFACIES_LITHOLOGY  \\\n",
       "0  1.884186   NaN  20.915468  ...                                 2   \n",
       "1  1.889794   NaN  19.383013  ...                                 2   \n",
       "2  1.896523   NaN  22.591518  ...                                 2   \n",
       "3  1.891913   NaN  32.191910  ...                                 2   \n",
       "4  1.880034   NaN  38.495632  ...                                 2   \n",
       "\n",
       "      95_PERC  05_PERC     GR_NORM    VSHALE  BS_FIX  CALI_R_MEAN  \\\n",
       "0  101.287117  14.6615  112.004200  0.756582     NaN          NaN   \n",
       "1  101.287117  14.6615  111.128597  0.745754     NaN          NaN   \n",
       "2  101.287117  14.6615  106.982973  0.694489     NaN          NaN   \n",
       "3  101.287117  14.6615  105.169086  0.672058     NaN          NaN   \n",
       "4  101.287117  14.6615  104.095752  0.658785     NaN          NaN   \n",
       "\n",
       "   BS_FROM_CALI  BS_COMB  DIFF_CAL  \n",
       "0          17.5     17.5  1.980835  \n",
       "1          17.5     17.5  1.968800  \n",
       "2          17.5     17.5  1.968800  \n",
       "3          17.5     17.5  1.959282  \n",
       "4          17.5     17.5  1.953100  \n",
       "\n",
       "[5 rows x 27 columns]"
      ]
     },
     "execution_count": 3,
     "metadata": {},
     "output_type": "execute_result"
    }
   ],
   "source": [
    "data.head()"
   ]
  },
  {
   "cell_type": "code",
   "execution_count": 105,
   "metadata": {},
   "outputs": [],
   "source": [
    "workingdf = data.loc[:, ['Z_LOC', 'RHOB', 'DIFF_CAL', 'GR_NORM', 'VSHALE', 'DTC', 'NPHI']]"
   ]
  },
  {
   "cell_type": "code",
   "execution_count": 39,
   "metadata": {},
   "outputs": [
    {
     "data": {
      "text/html": [
       "<div>\n",
       "<style scoped>\n",
       "    .dataframe tbody tr th:only-of-type {\n",
       "        vertical-align: middle;\n",
       "    }\n",
       "\n",
       "    .dataframe tbody tr th {\n",
       "        vertical-align: top;\n",
       "    }\n",
       "\n",
       "    .dataframe thead th {\n",
       "        text-align: right;\n",
       "    }\n",
       "</style>\n",
       "<table border=\"1\" class=\"dataframe\">\n",
       "  <thead>\n",
       "    <tr style=\"text-align: right;\">\n",
       "      <th></th>\n",
       "      <th>Z_LOC</th>\n",
       "      <th>RHOB</th>\n",
       "      <th>DIFF_CAL</th>\n",
       "      <th>GR_NORM</th>\n",
       "      <th>VSHALE</th>\n",
       "      <th>DTC</th>\n",
       "    </tr>\n",
       "  </thead>\n",
       "  <tbody>\n",
       "    <tr>\n",
       "      <th>0</th>\n",
       "      <td>-469.501831</td>\n",
       "      <td>1.884186</td>\n",
       "      <td>1.980835</td>\n",
       "      <td>112.004200</td>\n",
       "      <td>0.756582</td>\n",
       "      <td>161.131180</td>\n",
       "    </tr>\n",
       "    <tr>\n",
       "      <th>1</th>\n",
       "      <td>-469.653809</td>\n",
       "      <td>1.889794</td>\n",
       "      <td>1.968800</td>\n",
       "      <td>111.128597</td>\n",
       "      <td>0.745754</td>\n",
       "      <td>160.603470</td>\n",
       "    </tr>\n",
       "    <tr>\n",
       "      <th>2</th>\n",
       "      <td>-469.805786</td>\n",
       "      <td>1.896523</td>\n",
       "      <td>1.968800</td>\n",
       "      <td>106.982973</td>\n",
       "      <td>0.694489</td>\n",
       "      <td>160.173615</td>\n",
       "    </tr>\n",
       "    <tr>\n",
       "      <th>3</th>\n",
       "      <td>-469.957794</td>\n",
       "      <td>1.891913</td>\n",
       "      <td>1.959282</td>\n",
       "      <td>105.169086</td>\n",
       "      <td>0.672058</td>\n",
       "      <td>160.149429</td>\n",
       "    </tr>\n",
       "    <tr>\n",
       "      <th>4</th>\n",
       "      <td>-470.109772</td>\n",
       "      <td>1.880034</td>\n",
       "      <td>1.953100</td>\n",
       "      <td>104.095752</td>\n",
       "      <td>0.658785</td>\n",
       "      <td>160.128342</td>\n",
       "    </tr>\n",
       "  </tbody>\n",
       "</table>\n",
       "</div>"
      ],
      "text/plain": [
       "        Z_LOC      RHOB  DIFF_CAL     GR_NORM    VSHALE         DTC\n",
       "0 -469.501831  1.884186  1.980835  112.004200  0.756582  161.131180\n",
       "1 -469.653809  1.889794  1.968800  111.128597  0.745754  160.603470\n",
       "2 -469.805786  1.896523  1.968800  106.982973  0.694489  160.173615\n",
       "3 -469.957794  1.891913  1.959282  105.169086  0.672058  160.149429\n",
       "4 -470.109772  1.880034  1.953100  104.095752  0.658785  160.128342"
      ]
     },
     "execution_count": 39,
     "metadata": {},
     "output_type": "execute_result"
    }
   ],
   "source": [
    "workingdf.head()"
   ]
  },
  {
   "cell_type": "code",
   "execution_count": 40,
   "metadata": {},
   "outputs": [],
   "source": [
    "workingdf['TVD']= workingdf['Z_LOC'] * -1"
   ]
  },
  {
   "cell_type": "code",
   "execution_count": 41,
   "metadata": {},
   "outputs": [
    {
     "data": {
      "text/html": [
       "<div>\n",
       "<style scoped>\n",
       "    .dataframe tbody tr th:only-of-type {\n",
       "        vertical-align: middle;\n",
       "    }\n",
       "\n",
       "    .dataframe tbody tr th {\n",
       "        vertical-align: top;\n",
       "    }\n",
       "\n",
       "    .dataframe thead th {\n",
       "        text-align: right;\n",
       "    }\n",
       "</style>\n",
       "<table border=\"1\" class=\"dataframe\">\n",
       "  <thead>\n",
       "    <tr style=\"text-align: right;\">\n",
       "      <th></th>\n",
       "      <th>Z_LOC</th>\n",
       "      <th>RHOB</th>\n",
       "      <th>DIFF_CAL</th>\n",
       "      <th>GR_NORM</th>\n",
       "      <th>VSHALE</th>\n",
       "      <th>DTC</th>\n",
       "      <th>TVD</th>\n",
       "    </tr>\n",
       "  </thead>\n",
       "  <tbody>\n",
       "    <tr>\n",
       "      <th>0</th>\n",
       "      <td>-469.501831</td>\n",
       "      <td>1.884186</td>\n",
       "      <td>1.980835</td>\n",
       "      <td>112.004200</td>\n",
       "      <td>0.756582</td>\n",
       "      <td>161.131180</td>\n",
       "      <td>469.501831</td>\n",
       "    </tr>\n",
       "    <tr>\n",
       "      <th>1</th>\n",
       "      <td>-469.653809</td>\n",
       "      <td>1.889794</td>\n",
       "      <td>1.968800</td>\n",
       "      <td>111.128597</td>\n",
       "      <td>0.745754</td>\n",
       "      <td>160.603470</td>\n",
       "      <td>469.653809</td>\n",
       "    </tr>\n",
       "    <tr>\n",
       "      <th>2</th>\n",
       "      <td>-469.805786</td>\n",
       "      <td>1.896523</td>\n",
       "      <td>1.968800</td>\n",
       "      <td>106.982973</td>\n",
       "      <td>0.694489</td>\n",
       "      <td>160.173615</td>\n",
       "      <td>469.805786</td>\n",
       "    </tr>\n",
       "    <tr>\n",
       "      <th>3</th>\n",
       "      <td>-469.957794</td>\n",
       "      <td>1.891913</td>\n",
       "      <td>1.959282</td>\n",
       "      <td>105.169086</td>\n",
       "      <td>0.672058</td>\n",
       "      <td>160.149429</td>\n",
       "      <td>469.957794</td>\n",
       "    </tr>\n",
       "    <tr>\n",
       "      <th>4</th>\n",
       "      <td>-470.109772</td>\n",
       "      <td>1.880034</td>\n",
       "      <td>1.953100</td>\n",
       "      <td>104.095752</td>\n",
       "      <td>0.658785</td>\n",
       "      <td>160.128342</td>\n",
       "      <td>470.109772</td>\n",
       "    </tr>\n",
       "    <tr>\n",
       "      <th>...</th>\n",
       "      <td>...</td>\n",
       "      <td>...</td>\n",
       "      <td>...</td>\n",
       "      <td>...</td>\n",
       "      <td>...</td>\n",
       "      <td>...</td>\n",
       "      <td>...</td>\n",
       "    </tr>\n",
       "    <tr>\n",
       "      <th>1170506</th>\n",
       "      <td>NaN</td>\n",
       "      <td>2.527984</td>\n",
       "      <td>-0.076830</td>\n",
       "      <td>68.082822</td>\n",
       "      <td>0.213445</td>\n",
       "      <td>NaN</td>\n",
       "      <td>NaN</td>\n",
       "    </tr>\n",
       "    <tr>\n",
       "      <th>1170507</th>\n",
       "      <td>NaN</td>\n",
       "      <td>2.537613</td>\n",
       "      <td>-0.120756</td>\n",
       "      <td>67.302549</td>\n",
       "      <td>0.203796</td>\n",
       "      <td>NaN</td>\n",
       "      <td>NaN</td>\n",
       "    </tr>\n",
       "    <tr>\n",
       "      <th>1170508</th>\n",
       "      <td>NaN</td>\n",
       "      <td>2.491860</td>\n",
       "      <td>-0.149752</td>\n",
       "      <td>64.267543</td>\n",
       "      <td>0.166264</td>\n",
       "      <td>NaN</td>\n",
       "      <td>NaN</td>\n",
       "    </tr>\n",
       "    <tr>\n",
       "      <th>1170509</th>\n",
       "      <td>NaN</td>\n",
       "      <td>2.447539</td>\n",
       "      <td>-0.186221</td>\n",
       "      <td>60.634149</td>\n",
       "      <td>0.121333</td>\n",
       "      <td>NaN</td>\n",
       "      <td>NaN</td>\n",
       "    </tr>\n",
       "    <tr>\n",
       "      <th>1170510</th>\n",
       "      <td>NaN</td>\n",
       "      <td>2.430716</td>\n",
       "      <td>-0.205090</td>\n",
       "      <td>58.129917</td>\n",
       "      <td>0.090366</td>\n",
       "      <td>NaN</td>\n",
       "      <td>NaN</td>\n",
       "    </tr>\n",
       "  </tbody>\n",
       "</table>\n",
       "<p>1170511 rows × 7 columns</p>\n",
       "</div>"
      ],
      "text/plain": [
       "              Z_LOC      RHOB  DIFF_CAL     GR_NORM    VSHALE         DTC  \\\n",
       "0       -469.501831  1.884186  1.980835  112.004200  0.756582  161.131180   \n",
       "1       -469.653809  1.889794  1.968800  111.128597  0.745754  160.603470   \n",
       "2       -469.805786  1.896523  1.968800  106.982973  0.694489  160.173615   \n",
       "3       -469.957794  1.891913  1.959282  105.169086  0.672058  160.149429   \n",
       "4       -470.109772  1.880034  1.953100  104.095752  0.658785  160.128342   \n",
       "...             ...       ...       ...         ...       ...         ...   \n",
       "1170506         NaN  2.527984 -0.076830   68.082822  0.213445         NaN   \n",
       "1170507         NaN  2.537613 -0.120756   67.302549  0.203796         NaN   \n",
       "1170508         NaN  2.491860 -0.149752   64.267543  0.166264         NaN   \n",
       "1170509         NaN  2.447539 -0.186221   60.634149  0.121333         NaN   \n",
       "1170510         NaN  2.430716 -0.205090   58.129917  0.090366         NaN   \n",
       "\n",
       "                TVD  \n",
       "0        469.501831  \n",
       "1        469.653809  \n",
       "2        469.805786  \n",
       "3        469.957794  \n",
       "4        470.109772  \n",
       "...             ...  \n",
       "1170506         NaN  \n",
       "1170507         NaN  \n",
       "1170508         NaN  \n",
       "1170509         NaN  \n",
       "1170510         NaN  \n",
       "\n",
       "[1170511 rows x 7 columns]"
      ]
     },
     "execution_count": 41,
     "metadata": {},
     "output_type": "execute_result"
    }
   ],
   "source": [
    "workingdf"
   ]
  },
  {
   "cell_type": "code",
   "execution_count": 42,
   "metadata": {},
   "outputs": [
    {
     "data": {
      "text/plain": [
       "<matplotlib.axes._subplots.AxesSubplot at 0x2003d4dca88>"
      ]
     },
     "execution_count": 42,
     "metadata": {},
     "output_type": "execute_result"
    },
    {
     "data": {
      "image/png": "[encoded data removed]",
      "text/plain": [
       "<Figure size 1728x720 with 3 Axes>"
      ]
     },
     "metadata": {
      "needs_background": "light"
     },
     "output_type": "display_data"
    }
   ],
   "source": [
    "missingno.bar(workingdf)"
   ]
  },
  {
   "cell_type": "code",
   "execution_count": 43,
   "metadata": {},
   "outputs": [],
   "source": [
    "workingdf['TVD'].fillna(method='bfill', inplace=True)\n",
    "workingdf['TVD'].fillna(method='ffill', inplace=True)"
   ]
  },
  {
   "cell_type": "code",
   "execution_count": 44,
   "metadata": {},
   "outputs": [],
   "source": [
    "workingdf['DTC'].fillna(method='ffill', inplace=True)"
   ]
  },
  {
   "cell_type": "code",
   "execution_count": 45,
   "metadata": {},
   "outputs": [
    {
     "data": {
      "text/plain": [
       "<matplotlib.axes._subplots.AxesSubplot at 0x2003dacb2c8>"
      ]
     },
     "execution_count": 45,
     "metadata": {},
     "output_type": "execute_result"
    },
    {
     "data": {
      "image/png": "[encoded data removed]",
      "text/plain": [
       "<Figure size 1728x720 with 3 Axes>"
      ]
     },
     "metadata": {
      "needs_background": "light"
     },
     "output_type": "display_data"
    }
   ],
   "source": [
    "missingno.bar(workingdf)"
   ]
  },
  {
   "cell_type": "code",
   "execution_count": 46,
   "metadata": {},
   "outputs": [],
   "source": [
    "workingdf_dropped_nan = workingdf.copy()"
   ]
  },
  {
   "cell_type": "code",
   "execution_count": 47,
   "metadata": {},
   "outputs": [],
   "source": [
    "workingdf_dropped_nan = workingdf_dropped_nan.dropna()"
   ]
  },
  {
   "cell_type": "code",
   "execution_count": 48,
   "metadata": {},
   "outputs": [
    {
     "data": {
      "text/plain": [
       "<matplotlib.axes._subplots.AxesSubplot at 0x2003da883c8>"
      ]
     },
     "execution_count": 48,
     "metadata": {},
     "output_type": "execute_result"
    },
    {
     "data": {
      "image/png": "[encoded data removed]",
      "text/plain": [
       "<Figure size 1728x720 with 3 Axes>"
      ]
     },
     "metadata": {
      "needs_background": "light"
     },
     "output_type": "display_data"
    }
   ],
   "source": [
    "missingno.bar(workingdf_dropped_nan)"
   ]
  },
  {
   "cell_type": "code",
   "execution_count": 49,
   "metadata": {},
   "outputs": [
    {
     "ename": "KeyError",
     "evalue": "'[ True  True  True ...  True  True  True] not found in axis'",
     "output_type": "error",
     "traceback": [
      "\u001b[1;31m---------------------------------------------------------------------------\u001b[0m",
      "\u001b[1;31mKeyError\u001b[0m                                  Traceback (most recent call last)",
      "\u001b[1;32m<ipython-input-49-3b6c04dc759a>\u001b[0m in \u001b[0;36m<module>\u001b[1;34m\u001b[0m\n\u001b[1;32m----> 1\u001b[1;33m \u001b[0mworkingdf_dropped_nan\u001b[0m \u001b[1;33m=\u001b[0m \u001b[0mworkingdf_dropped_nan\u001b[0m\u001b[1;33m.\u001b[0m\u001b[0mdrop\u001b[0m\u001b[1;33m(\u001b[0m\u001b[0mworkingdf_dropped_nan\u001b[0m\u001b[1;33m[\u001b[0m\u001b[1;34m'DIFF_CAL'\u001b[0m\u001b[1;33m]\u001b[0m \u001b[1;33m<=\u001b[0m \u001b[1;36m2\u001b[0m\u001b[1;33m)\u001b[0m\u001b[1;33m\u001b[0m\u001b[1;33m\u001b[0m\u001b[0m\n\u001b[0m",
      "\u001b[1;32m~\\AppData\\Local\\Continuum\\anaconda3\\lib\\site-packages\\pandas\\core\\frame.py\u001b[0m in \u001b[0;36mdrop\u001b[1;34m(self, labels, axis, index, columns, level, inplace, errors)\u001b[0m\n\u001b[0;32m   4115\u001b[0m             \u001b[0mlevel\u001b[0m\u001b[1;33m=\u001b[0m\u001b[0mlevel\u001b[0m\u001b[1;33m,\u001b[0m\u001b[1;33m\u001b[0m\u001b[1;33m\u001b[0m\u001b[0m\n\u001b[0;32m   4116\u001b[0m             \u001b[0minplace\u001b[0m\u001b[1;33m=\u001b[0m\u001b[0minplace\u001b[0m\u001b[1;33m,\u001b[0m\u001b[1;33m\u001b[0m\u001b[1;33m\u001b[0m\u001b[0m\n\u001b[1;32m-> 4117\u001b[1;33m             \u001b[0merrors\u001b[0m\u001b[1;33m=\u001b[0m\u001b[0merrors\u001b[0m\u001b[1;33m,\u001b[0m\u001b[1;33m\u001b[0m\u001b[1;33m\u001b[0m\u001b[0m\n\u001b[0m\u001b[0;32m   4118\u001b[0m         )\n\u001b[0;32m   4119\u001b[0m \u001b[1;33m\u001b[0m\u001b[0m\n",
      "\u001b[1;32m~\\AppData\\Local\\Continuum\\anaconda3\\lib\\site-packages\\pandas\\core\\generic.py\u001b[0m in \u001b[0;36mdrop\u001b[1;34m(self, labels, axis, index, columns, level, inplace, errors)\u001b[0m\n\u001b[0;32m   3912\u001b[0m         \u001b[1;32mfor\u001b[0m \u001b[0maxis\u001b[0m\u001b[1;33m,\u001b[0m \u001b[0mlabels\u001b[0m \u001b[1;32min\u001b[0m \u001b[0maxes\u001b[0m\u001b[1;33m.\u001b[0m\u001b[0mitems\u001b[0m\u001b[1;33m(\u001b[0m\u001b[1;33m)\u001b[0m\u001b[1;33m:\u001b[0m\u001b[1;33m\u001b[0m\u001b[1;33m\u001b[0m\u001b[0m\n\u001b[0;32m   3913\u001b[0m             \u001b[1;32mif\u001b[0m \u001b[0mlabels\u001b[0m \u001b[1;32mis\u001b[0m \u001b[1;32mnot\u001b[0m \u001b[1;32mNone\u001b[0m\u001b[1;33m:\u001b[0m\u001b[1;33m\u001b[0m\u001b[1;33m\u001b[0m\u001b[0m\n\u001b[1;32m-> 3914\u001b[1;33m                 \u001b[0mobj\u001b[0m \u001b[1;33m=\u001b[0m \u001b[0mobj\u001b[0m\u001b[1;33m.\u001b[0m\u001b[0m_drop_axis\u001b[0m\u001b[1;33m(\u001b[0m\u001b[0mlabels\u001b[0m\u001b[1;33m,\u001b[0m \u001b[0maxis\u001b[0m\u001b[1;33m,\u001b[0m \u001b[0mlevel\u001b[0m\u001b[1;33m=\u001b[0m\u001b[0mlevel\u001b[0m\u001b[1;33m,\u001b[0m \u001b[0merrors\u001b[0m\u001b[1;33m=\u001b[0m\u001b[0merrors\u001b[0m\u001b[1;33m)\u001b[0m\u001b[1;33m\u001b[0m\u001b[1;33m\u001b[0m\u001b[0m\n\u001b[0m\u001b[0;32m   3915\u001b[0m \u001b[1;33m\u001b[0m\u001b[0m\n\u001b[0;32m   3916\u001b[0m         \u001b[1;32mif\u001b[0m \u001b[0minplace\u001b[0m\u001b[1;33m:\u001b[0m\u001b[1;33m\u001b[0m\u001b[1;33m\u001b[0m\u001b[0m\n",
      "\u001b[1;32m~\\AppData\\Local\\Continuum\\anaconda3\\lib\\site-packages\\pandas\\core\\generic.py\u001b[0m in \u001b[0;36m_drop_axis\u001b[1;34m(self, labels, axis, level, errors)\u001b[0m\n\u001b[0;32m   3944\u001b[0m                 \u001b[0mnew_axis\u001b[0m \u001b[1;33m=\u001b[0m \u001b[0maxis\u001b[0m\u001b[1;33m.\u001b[0m\u001b[0mdrop\u001b[0m\u001b[1;33m(\u001b[0m\u001b[0mlabels\u001b[0m\u001b[1;33m,\u001b[0m \u001b[0mlevel\u001b[0m\u001b[1;33m=\u001b[0m\u001b[0mlevel\u001b[0m\u001b[1;33m,\u001b[0m \u001b[0merrors\u001b[0m\u001b[1;33m=\u001b[0m\u001b[0merrors\u001b[0m\u001b[1;33m)\u001b[0m\u001b[1;33m\u001b[0m\u001b[1;33m\u001b[0m\u001b[0m\n\u001b[0;32m   3945\u001b[0m             \u001b[1;32melse\u001b[0m\u001b[1;33m:\u001b[0m\u001b[1;33m\u001b[0m\u001b[1;33m\u001b[0m\u001b[0m\n\u001b[1;32m-> 3946\u001b[1;33m                 \u001b[0mnew_axis\u001b[0m \u001b[1;33m=\u001b[0m \u001b[0maxis\u001b[0m\u001b[1;33m.\u001b[0m\u001b[0mdrop\u001b[0m\u001b[1;33m(\u001b[0m\u001b[0mlabels\u001b[0m\u001b[1;33m,\u001b[0m \u001b[0merrors\u001b[0m\u001b[1;33m=\u001b[0m\u001b[0merrors\u001b[0m\u001b[1;33m)\u001b[0m\u001b[1;33m\u001b[0m\u001b[1;33m\u001b[0m\u001b[0m\n\u001b[0m\u001b[0;32m   3947\u001b[0m             \u001b[0mresult\u001b[0m \u001b[1;33m=\u001b[0m \u001b[0mself\u001b[0m\u001b[1;33m.\u001b[0m\u001b[0mreindex\u001b[0m\u001b[1;33m(\u001b[0m\u001b[1;33m**\u001b[0m\u001b[1;33m{\u001b[0m\u001b[0maxis_name\u001b[0m\u001b[1;33m:\u001b[0m \u001b[0mnew_axis\u001b[0m\u001b[1;33m}\u001b[0m\u001b[1;33m)\u001b[0m\u001b[1;33m\u001b[0m\u001b[1;33m\u001b[0m\u001b[0m\n\u001b[0;32m   3948\u001b[0m \u001b[1;33m\u001b[0m\u001b[0m\n",
      "\u001b[1;32m~\\AppData\\Local\\Continuum\\anaconda3\\lib\\site-packages\\pandas\\core\\indexes\\base.py\u001b[0m in \u001b[0;36mdrop\u001b[1;34m(self, labels, errors)\u001b[0m\n\u001b[0;32m   5338\u001b[0m         \u001b[1;32mif\u001b[0m \u001b[0mmask\u001b[0m\u001b[1;33m.\u001b[0m\u001b[0many\u001b[0m\u001b[1;33m(\u001b[0m\u001b[1;33m)\u001b[0m\u001b[1;33m:\u001b[0m\u001b[1;33m\u001b[0m\u001b[1;33m\u001b[0m\u001b[0m\n\u001b[0;32m   5339\u001b[0m             \u001b[1;32mif\u001b[0m \u001b[0merrors\u001b[0m \u001b[1;33m!=\u001b[0m \u001b[1;34m\"ignore\"\u001b[0m\u001b[1;33m:\u001b[0m\u001b[1;33m\u001b[0m\u001b[1;33m\u001b[0m\u001b[0m\n\u001b[1;32m-> 5340\u001b[1;33m                 \u001b[1;32mraise\u001b[0m \u001b[0mKeyError\u001b[0m\u001b[1;33m(\u001b[0m\u001b[1;34m\"{} not found in axis\"\u001b[0m\u001b[1;33m.\u001b[0m\u001b[0mformat\u001b[0m\u001b[1;33m(\u001b[0m\u001b[0mlabels\u001b[0m\u001b[1;33m[\u001b[0m\u001b[0mmask\u001b[0m\u001b[1;33m]\u001b[0m\u001b[1;33m)\u001b[0m\u001b[1;33m)\u001b[0m\u001b[1;33m\u001b[0m\u001b[1;33m\u001b[0m\u001b[0m\n\u001b[0m\u001b[0;32m   5341\u001b[0m             \u001b[0mindexer\u001b[0m \u001b[1;33m=\u001b[0m \u001b[0mindexer\u001b[0m\u001b[1;33m[\u001b[0m\u001b[1;33m~\u001b[0m\u001b[0mmask\u001b[0m\u001b[1;33m]\u001b[0m\u001b[1;33m\u001b[0m\u001b[1;33m\u001b[0m\u001b[0m\n\u001b[0;32m   5342\u001b[0m         \u001b[1;32mreturn\u001b[0m \u001b[0mself\u001b[0m\u001b[1;33m.\u001b[0m\u001b[0mdelete\u001b[0m\u001b[1;33m(\u001b[0m\u001b[0mindexer\u001b[0m\u001b[1;33m)\u001b[0m\u001b[1;33m\u001b[0m\u001b[1;33m\u001b[0m\u001b[0m\n",
      "\u001b[1;31mKeyError\u001b[0m: '[ True  True  True ...  True  True  True] not found in axis'"
     ]
    }
   ],
   "source": [
    "workingdf_dropped_nan = workingdf_dropped_nan.drop(workingdf_dropped_nan['DIFF_CAL'] <= 2)"
   ]
  },
  {
   "cell_type": "code",
   "execution_count": null,
   "metadata": {},
   "outputs": [],
   "source": [
    "workingdf_dropped_nan = workingdf_dropped_nan[workingdf_dropped_nan['DIFF_CAL'] <= 2]"
   ]
  },
  {
   "cell_type": "code",
   "execution_count": 50,
   "metadata": {},
   "outputs": [
    {
     "data": {
      "text/plain": [
       "<matplotlib.axes._subplots.AxesSubplot at 0x2004529aac8>"
      ]
     },
     "execution_count": 50,
     "metadata": {},
     "output_type": "execute_result"
    },
    {
     "data": {
      "image/png": "[encoded data removed]",
      "text/plain": [
       "<Figure size 1728x720 with 3 Axes>"
      ]
     },
     "metadata": {
      "needs_background": "light"
     },
     "output_type": "display_data"
    }
   ],
   "source": [
    "missingno.bar(workingdf_dropped_nan)"
   ]
  },
  {
   "cell_type": "code",
   "execution_count": 51,
   "metadata": {},
   "outputs": [],
   "source": [
    "from sklearn.preprocessing import StandardScaler"
   ]
  },
  {
   "cell_type": "code",
   "execution_count": 52,
   "metadata": {},
   "outputs": [],
   "source": [
    "temp = workingdf_dropped_nan.loc[:,['VSHALE', 'DTC', 'TVD', 'RHOB']]"
   ]
  },
  {
   "cell_type": "code",
   "execution_count": 53,
   "metadata": {},
   "outputs": [],
   "source": [
    "modellingdf = temp.copy()"
   ]
  },
  {
   "cell_type": "code",
   "execution_count": 54,
   "metadata": {},
   "outputs": [],
   "source": [
    "col_names = ['DTC', 'TVD', 'VSHALE']\n",
    "features = modellingdf[col_names]\n",
    "scaler=StandardScaler().fit(features.values)\n",
    "features = scaler.transform(features.values)"
   ]
  },
  {
   "cell_type": "code",
   "execution_count": 55,
   "metadata": {},
   "outputs": [
    {
     "data": {
      "text/plain": [
       "array([[ 1.79357069, -1.93487384,  0.94940203],\n",
       "       [ 1.77553873, -1.93471158,  0.91282956],\n",
       "       [ 1.76085048, -1.93454932,  0.73967367],\n",
       "       ...,\n",
       "       [-0.3240162 ,  0.88165215, -1.09005324],\n",
       "       [-0.3240162 ,  0.88181454, -1.28254998],\n",
       "       [-0.3240162 ,  0.88197667, -1.42692344]])"
      ]
     },
     "execution_count": 55,
     "metadata": {},
     "output_type": "execute_result"
    }
   ],
   "source": [
    "features"
   ]
  },
  {
   "cell_type": "code",
   "execution_count": 56,
   "metadata": {},
   "outputs": [],
   "source": [
    "modellingdf[col_names]= features"
   ]
  },
  {
   "cell_type": "code",
   "execution_count": 57,
   "metadata": {},
   "outputs": [
    {
     "data": {
      "text/html": [
       "<div>\n",
       "<style scoped>\n",
       "    .dataframe tbody tr th:only-of-type {\n",
       "        vertical-align: middle;\n",
       "    }\n",
       "\n",
       "    .dataframe tbody tr th {\n",
       "        vertical-align: top;\n",
       "    }\n",
       "\n",
       "    .dataframe thead th {\n",
       "        text-align: right;\n",
       "    }\n",
       "</style>\n",
       "<table border=\"1\" class=\"dataframe\">\n",
       "  <thead>\n",
       "    <tr style=\"text-align: right;\">\n",
       "      <th></th>\n",
       "      <th>VSHALE</th>\n",
       "      <th>DTC</th>\n",
       "      <th>TVD</th>\n",
       "      <th>RHOB</th>\n",
       "    </tr>\n",
       "  </thead>\n",
       "  <tbody>\n",
       "    <tr>\n",
       "      <th>0</th>\n",
       "      <td>0.949402</td>\n",
       "      <td>1.793571</td>\n",
       "      <td>-1.934874</td>\n",
       "      <td>1.884186</td>\n",
       "    </tr>\n",
       "    <tr>\n",
       "      <th>1</th>\n",
       "      <td>0.912830</td>\n",
       "      <td>1.775539</td>\n",
       "      <td>-1.934712</td>\n",
       "      <td>1.889794</td>\n",
       "    </tr>\n",
       "    <tr>\n",
       "      <th>2</th>\n",
       "      <td>0.739674</td>\n",
       "      <td>1.760850</td>\n",
       "      <td>-1.934549</td>\n",
       "      <td>1.896523</td>\n",
       "    </tr>\n",
       "    <tr>\n",
       "      <th>3</th>\n",
       "      <td>0.663911</td>\n",
       "      <td>1.760024</td>\n",
       "      <td>-1.934387</td>\n",
       "      <td>1.891913</td>\n",
       "    </tr>\n",
       "    <tr>\n",
       "      <th>4</th>\n",
       "      <td>0.619079</td>\n",
       "      <td>1.759303</td>\n",
       "      <td>-1.934225</td>\n",
       "      <td>1.880034</td>\n",
       "    </tr>\n",
       "    <tr>\n",
       "      <th>...</th>\n",
       "      <td>...</td>\n",
       "      <td>...</td>\n",
       "      <td>...</td>\n",
       "      <td>...</td>\n",
       "    </tr>\n",
       "    <tr>\n",
       "      <th>1170498</th>\n",
       "      <td>-1.264846</td>\n",
       "      <td>-0.324016</td>\n",
       "      <td>0.881328</td>\n",
       "      <td>2.417872</td>\n",
       "    </tr>\n",
       "    <tr>\n",
       "      <th>1170499</th>\n",
       "      <td>-1.087372</td>\n",
       "      <td>-0.324016</td>\n",
       "      <td>0.881490</td>\n",
       "      <td>2.408293</td>\n",
       "    </tr>\n",
       "    <tr>\n",
       "      <th>1170500</th>\n",
       "      <td>-1.090053</td>\n",
       "      <td>-0.324016</td>\n",
       "      <td>0.881652</td>\n",
       "      <td>2.397462</td>\n",
       "    </tr>\n",
       "    <tr>\n",
       "      <th>1170501</th>\n",
       "      <td>-1.282550</td>\n",
       "      <td>-0.324016</td>\n",
       "      <td>0.881815</td>\n",
       "      <td>2.383679</td>\n",
       "    </tr>\n",
       "    <tr>\n",
       "      <th>1170502</th>\n",
       "      <td>-1.426923</td>\n",
       "      <td>-0.324016</td>\n",
       "      <td>0.881977</td>\n",
       "      <td>2.380656</td>\n",
       "    </tr>\n",
       "  </tbody>\n",
       "</table>\n",
       "<p>904900 rows × 4 columns</p>\n",
       "</div>"
      ],
      "text/plain": [
       "           VSHALE       DTC       TVD      RHOB\n",
       "0        0.949402  1.793571 -1.934874  1.884186\n",
       "1        0.912830  1.775539 -1.934712  1.889794\n",
       "2        0.739674  1.760850 -1.934549  1.896523\n",
       "3        0.663911  1.760024 -1.934387  1.891913\n",
       "4        0.619079  1.759303 -1.934225  1.880034\n",
       "...           ...       ...       ...       ...\n",
       "1170498 -1.264846 -0.324016  0.881328  2.417872\n",
       "1170499 -1.087372 -0.324016  0.881490  2.408293\n",
       "1170500 -1.090053 -0.324016  0.881652  2.397462\n",
       "1170501 -1.282550 -0.324016  0.881815  2.383679\n",
       "1170502 -1.426923 -0.324016  0.881977  2.380656\n",
       "\n",
       "[904900 rows x 4 columns]"
      ]
     },
     "execution_count": 57,
     "metadata": {},
     "output_type": "execute_result"
    }
   ],
   "source": [
    "modellingdf"
   ]
  },
  {
   "cell_type": "code",
   "execution_count": 58,
   "metadata": {},
   "outputs": [],
   "source": [
    "from xgboost.sklearn import XGBRegressor\n",
    "from sklearn.linear_model import LinearRegression\n",
    "from sklearn.ensemble import  RandomForestRegressor"
   ]
  },
  {
   "cell_type": "code",
   "execution_count": 59,
   "metadata": {},
   "outputs": [],
   "source": [
    "X = modellingdf.loc[:,['VSHALE', 'DTC', 'TVD']]\n",
    "y = modellingdf.loc[:,'RHOB']"
   ]
  },
  {
   "cell_type": "code",
   "execution_count": 60,
   "metadata": {},
   "outputs": [],
   "source": [
    "X_train, X_test, y_train, y_test = train_test_split(X, y, test_size=0.3, random_state=42)"
   ]
  },
  {
   "cell_type": "code",
   "execution_count": 61,
   "metadata": {},
   "outputs": [
    {
     "data": {
      "text/plain": [
       "((633430, 3), (271470, 3), (633430,), (271470,))"
      ]
     },
     "execution_count": 61,
     "metadata": {},
     "output_type": "execute_result"
    }
   ],
   "source": [
    "X_train.shape, X_test.shape, y_train.shape, y_test.shape"
   ]
  },
  {
   "cell_type": "code",
   "execution_count": 62,
   "metadata": {},
   "outputs": [],
   "source": [
    "model_LR=LinearRegression()"
   ]
  },
  {
   "cell_type": "code",
   "execution_count": 63,
   "metadata": {},
   "outputs": [
    {
     "data": {
      "text/plain": [
       "LinearRegression(copy_X=True, fit_intercept=True, n_jobs=None, normalize=False)"
      ]
     },
     "execution_count": 63,
     "metadata": {},
     "output_type": "execute_result"
    }
   ],
   "source": [
    "model_LR.fit(X_train, y_train)"
   ]
  },
  {
   "cell_type": "code",
   "execution_count": 64,
   "metadata": {},
   "outputs": [],
   "source": [
    "y_pred_LR_test = model_LR.predict(X_test)"
   ]
  },
  {
   "cell_type": "code",
   "execution_count": 65,
   "metadata": {},
   "outputs": [
    {
     "data": {
      "text/plain": [
       "(0, 3.5)"
      ]
     },
     "execution_count": 65,
     "metadata": {},
     "output_type": "execute_result"
    },
    {
     "data": {
      "image/png": "[encoded data removed]",
      "text/plain": [
       "<Figure size 432x288 with 1 Axes>"
      ]
     },
     "metadata": {
      "needs_background": "light"
     },
     "output_type": "display_data"
    }
   ],
   "source": [
    "plt.scatter(y_test, y_pred_LR_test)\n",
    "plt.xlim(0,3.5)\n",
    "plt.ylim(0,3.5)"
   ]
  },
  {
   "cell_type": "code",
   "execution_count": 66,
   "metadata": {},
   "outputs": [
    {
     "name": "stderr",
     "output_type": "stream",
     "text": [
      "C:\\Users\\BANAMZ\\AppData\\Local\\Continuum\\anaconda3\\lib\\site-packages\\sklearn\\ensemble\\forest.py:245: FutureWarning: The default value of n_estimators will change from 10 in version 0.20 to 100 in 0.22.\n",
      "  \"10 in version 0.20 to 100 in 0.22.\", FutureWarning)\n"
     ]
    },
    {
     "data": {
      "text/plain": [
       "RandomForestRegressor(bootstrap=True, criterion='mse', max_depth=200,\n",
       "                      max_features='auto', max_leaf_nodes=None,\n",
       "                      min_impurity_decrease=0.0, min_impurity_split=None,\n",
       "                      min_samples_leaf=1, min_samples_split=2,\n",
       "                      min_weight_fraction_leaf=0.0, n_estimators=10,\n",
       "                      n_jobs=None, oob_score=False, random_state=None,\n",
       "                      verbose=0, warm_start=False)"
      ]
     },
     "execution_count": 66,
     "metadata": {},
     "output_type": "execute_result"
    }
   ],
   "source": [
    "model_RFR = RandomForestRegressor(max_depth=200)\n",
    "model_RFR.fit(X_train, y_train)"
   ]
  },
  {
   "cell_type": "code",
   "execution_count": 67,
   "metadata": {},
   "outputs": [],
   "source": [
    "y_pred_RFR_test = model_RFR.predict(X_test)"
   ]
  },
  {
   "cell_type": "code",
   "execution_count": 68,
   "metadata": {},
   "outputs": [
    {
     "data": {
      "image/png": "[encoded data removed]",
      "text/plain": [
       "<Figure size 720x504 with 1 Axes>"
      ]
     },
     "metadata": {
      "needs_background": "light"
     },
     "output_type": "display_data"
    }
   ],
   "source": [
    "plt.figure(figsize=(10,7))\n",
    "feat_importances = pd.Series(model_RFR.feature_importances_, index = X_train.columns)\n",
    "feat_importances.nlargest(7).plot(kind='barh');"
   ]
  },
  {
   "cell_type": "code",
   "execution_count": 69,
   "metadata": {},
   "outputs": [
    {
     "data": {
      "text/plain": [
       "(0, 3.5)"
      ]
     },
     "execution_count": 69,
     "metadata": {},
     "output_type": "execute_result"
    },
    {
     "data": {
      "image/png": "[encoded data removed]",
      "text/plain": [
       "<Figure size 432x288 with 1 Axes>"
      ]
     },
     "metadata": {
      "needs_background": "light"
     },
     "output_type": "display_data"
    }
   ],
   "source": [
    "plt.scatter(y_test, y_pred_LR_test, marker='.', alpha=0.5)\n",
    "plt.scatter(y_test, y_pred_RFR_test, color='red', marker='.', alpha=0.2)\n",
    "plt.xlim(0,3.5)\n",
    "plt.ylim(0,3.5)"
   ]
  },
  {
   "cell_type": "markdown",
   "metadata": {},
   "source": [
    "RFR Without Scaler"
   ]
  },
  {
   "cell_type": "code",
   "execution_count": 199,
   "metadata": {},
   "outputs": [],
   "source": [
    "X_nonscal = workingdf_dropped_nan.loc[:,['VSHALE', 'DTC', 'TVD']]\n",
    "y_nonscal = workingdf_dropped_nan.loc[:,'RHOB']"
   ]
  },
  {
   "cell_type": "code",
   "execution_count": 200,
   "metadata": {},
   "outputs": [
    {
     "data": {
      "text/html": [
       "<div>\n",
       "<style scoped>\n",
       "    .dataframe tbody tr th:only-of-type {\n",
       "        vertical-align: middle;\n",
       "    }\n",
       "\n",
       "    .dataframe tbody tr th {\n",
       "        vertical-align: top;\n",
       "    }\n",
       "\n",
       "    .dataframe thead th {\n",
       "        text-align: right;\n",
       "    }\n",
       "</style>\n",
       "<table border=\"1\" class=\"dataframe\">\n",
       "  <thead>\n",
       "    <tr style=\"text-align: right;\">\n",
       "      <th></th>\n",
       "      <th>VSHALE</th>\n",
       "      <th>DTC</th>\n",
       "      <th>TVD</th>\n",
       "    </tr>\n",
       "  </thead>\n",
       "  <tbody>\n",
       "    <tr>\n",
       "      <th>0</th>\n",
       "      <td>0.756582</td>\n",
       "      <td>161.131180</td>\n",
       "      <td>469.501831</td>\n",
       "    </tr>\n",
       "    <tr>\n",
       "      <th>1</th>\n",
       "      <td>0.745754</td>\n",
       "      <td>160.603470</td>\n",
       "      <td>469.653809</td>\n",
       "    </tr>\n",
       "    <tr>\n",
       "      <th>2</th>\n",
       "      <td>0.694489</td>\n",
       "      <td>160.173615</td>\n",
       "      <td>469.805786</td>\n",
       "    </tr>\n",
       "    <tr>\n",
       "      <th>3</th>\n",
       "      <td>0.672058</td>\n",
       "      <td>160.149429</td>\n",
       "      <td>469.957794</td>\n",
       "    </tr>\n",
       "    <tr>\n",
       "      <th>4</th>\n",
       "      <td>0.658785</td>\n",
       "      <td>160.128342</td>\n",
       "      <td>470.109772</td>\n",
       "    </tr>\n",
       "    <tr>\n",
       "      <th>...</th>\n",
       "      <td>...</td>\n",
       "      <td>...</td>\n",
       "      <td>...</td>\n",
       "    </tr>\n",
       "    <tr>\n",
       "      <th>1170498</th>\n",
       "      <td>0.101022</td>\n",
       "      <td>99.159462</td>\n",
       "      <td>3107.236816</td>\n",
       "    </tr>\n",
       "    <tr>\n",
       "      <th>1170499</th>\n",
       "      <td>0.153565</td>\n",
       "      <td>99.159462</td>\n",
       "      <td>3107.388672</td>\n",
       "    </tr>\n",
       "    <tr>\n",
       "      <th>1170500</th>\n",
       "      <td>0.152772</td>\n",
       "      <td>99.159462</td>\n",
       "      <td>3107.540771</td>\n",
       "    </tr>\n",
       "    <tr>\n",
       "      <th>1170501</th>\n",
       "      <td>0.095780</td>\n",
       "      <td>99.159462</td>\n",
       "      <td>3107.692871</td>\n",
       "    </tr>\n",
       "    <tr>\n",
       "      <th>1170502</th>\n",
       "      <td>0.053036</td>\n",
       "      <td>99.159462</td>\n",
       "      <td>3107.844727</td>\n",
       "    </tr>\n",
       "  </tbody>\n",
       "</table>\n",
       "<p>820201 rows × 3 columns</p>\n",
       "</div>"
      ],
      "text/plain": [
       "           VSHALE         DTC          TVD\n",
       "0        0.756582  161.131180   469.501831\n",
       "1        0.745754  160.603470   469.653809\n",
       "2        0.694489  160.173615   469.805786\n",
       "3        0.672058  160.149429   469.957794\n",
       "4        0.658785  160.128342   470.109772\n",
       "...           ...         ...          ...\n",
       "1170498  0.101022   99.159462  3107.236816\n",
       "1170499  0.153565   99.159462  3107.388672\n",
       "1170500  0.152772   99.159462  3107.540771\n",
       "1170501  0.095780   99.159462  3107.692871\n",
       "1170502  0.053036   99.159462  3107.844727\n",
       "\n",
       "[820201 rows x 3 columns]"
      ]
     },
     "execution_count": 200,
     "metadata": {},
     "output_type": "execute_result"
    }
   ],
   "source": [
    "X_nonscal"
   ]
  },
  {
   "cell_type": "code",
   "execution_count": 201,
   "metadata": {},
   "outputs": [],
   "source": [
    "X_train_ns, X_test_ns, y_train_ns, y_test_ns = train_test_split(X, y, test_size=0.3, random_state=42)"
   ]
  },
  {
   "cell_type": "code",
   "execution_count": 203,
   "metadata": {},
   "outputs": [
    {
     "name": "stderr",
     "output_type": "stream",
     "text": [
      "C:\\Users\\BANAMZ\\AppData\\Local\\Continuum\\anaconda3\\lib\\site-packages\\sklearn\\ensemble\\forest.py:245: FutureWarning: The default value of n_estimators will change from 10 in version 0.20 to 100 in 0.22.\n",
      "  \"10 in version 0.20 to 100 in 0.22.\", FutureWarning)\n"
     ]
    },
    {
     "data": {
      "text/plain": [
       "RandomForestRegressor(bootstrap=True, criterion='mse', max_depth=200,\n",
       "                      max_features='auto', max_leaf_nodes=None,\n",
       "                      min_impurity_decrease=0.0, min_impurity_split=None,\n",
       "                      min_samples_leaf=1, min_samples_split=2,\n",
       "                      min_weight_fraction_leaf=0.0, n_estimators=10,\n",
       "                      n_jobs=None, oob_score=False, random_state=None,\n",
       "                      verbose=0, warm_start=False)"
      ]
     },
     "execution_count": 203,
     "metadata": {},
     "output_type": "execute_result"
    }
   ],
   "source": [
    "model_RFR_NS = RandomForestRegressor(max_depth=200)\n",
    "model_RFR_NS.fit(X_train_ns, y_train_ns)"
   ]
  },
  {
   "cell_type": "code",
   "execution_count": 204,
   "metadata": {},
   "outputs": [],
   "source": [
    "y_pred_RFR_NS_test = model_RFR.predict(X_test_ns)"
   ]
  },
  {
   "cell_type": "code",
   "execution_count": 206,
   "metadata": {},
   "outputs": [
    {
     "name": "stdout",
     "output_type": "stream",
     "text": [
      "RMSE on Test Data for LR: 0.12362932607570071\n",
      "RMSE on Test Data for RFR: 0.08114450881302587\n",
      "RMSE on Test Data for XGBR: 0.10860862088941099\n",
      "RMSE on Test Data for RFR_NS: 0.5361026740384133\n"
     ]
    }
   ],
   "source": [
    "print(f'RMSE on Test Data for LR: {mean_squared_error(y_test, y_pred_LR_test)**0.5}')\n",
    "print(f'RMSE on Test Data for RFR: {mean_squared_error(y_test, y_pred_RFR_test)**0.5}')\n",
    "print(f'RMSE on Test Data for XGBR: {mean_squared_error(y_test, y_pred_XGBR_test)**0.5}')\n",
    "print(f'RMSE on Test Data for RFR_NS: {mean_squared_error(y_test_ns, y_pred_RFR_NS_test)**0.5}')"
   ]
  },
  {
   "cell_type": "markdown",
   "metadata": {},
   "source": [
    "# XGB Regressor"
   ]
  },
  {
   "cell_type": "code",
   "execution_count": 123,
   "metadata": {},
   "outputs": [
    {
     "name": "stderr",
     "output_type": "stream",
     "text": [
      "C:\\Users\\BANAMZ\\AppData\\Local\\Continuum\\anaconda3\\lib\\site-packages\\xgboost\\core.py:587: FutureWarning: Series.base is deprecated and will be removed in a future version\n",
      "  if getattr(data, 'base', None) is not None and \\\n"
     ]
    },
    {
     "name": "stdout",
     "output_type": "stream",
     "text": [
      "[11:40:44] WARNING: src/objective/regression_obj.cu:152: reg:linear is now deprecated in favor of reg:squarederror.\n"
     ]
    },
    {
     "data": {
      "text/plain": [
       "XGBRegressor(base_score=0.5, booster='gbtree', colsample_bylevel=1,\n",
       "             colsample_bynode=1, colsample_bytree=1, gamma=0,\n",
       "             importance_type='gain', learning_rate=0.1, max_delta_step=0,\n",
       "             max_depth=3, min_child_weight=1, missing=None, n_estimators=100,\n",
       "             n_jobs=1, nthread=None, objective='reg:linear', random_state=0,\n",
       "             reg_alpha=0, reg_lambda=1, scale_pos_weight=1, seed=None,\n",
       "             silent=None, subsample=1, verbosity=1)"
      ]
     },
     "execution_count": 123,
     "metadata": {},
     "output_type": "execute_result"
    }
   ],
   "source": [
    "model_XGBR = XGBRegressor()\n",
    "model_XGBR.fit(X_train, y_train)"
   ]
  },
  {
   "cell_type": "code",
   "execution_count": 124,
   "metadata": {},
   "outputs": [],
   "source": [
    "y_pred_XGBR_test = model_XGBR.predict(X_test)"
   ]
  },
  {
   "cell_type": "code",
   "execution_count": 125,
   "metadata": {},
   "outputs": [
    {
     "data": {
      "text/plain": [
       "(0, 3.5)"
      ]
     },
     "execution_count": 125,
     "metadata": {},
     "output_type": "execute_result"
    },
    {
     "data": {
      "image/png": "[encoded data removed]",
      "text/plain": [
       "<Figure size 432x288 with 1 Axes>"
      ]
     },
     "metadata": {
      "needs_background": "light"
     },
     "output_type": "display_data"
    }
   ],
   "source": [
    "plt.scatter(y_test, y_pred_LR_test, marker='.', alpha=0.5)\n",
    "plt.scatter(y_test, y_pred_RFR_test, color='red', marker='.', alpha=0.2)\n",
    "plt.scatter(y_test, y_pred_XGBR_test, color='green', marker='.', alpha=0.2)\n",
    "plt.xlim(0,3.5)\n",
    "plt.ylim(0,3.5)"
   ]
  },
  {
   "cell_type": "code",
   "execution_count": 139,
   "metadata": {},
   "outputs": [
    {
     "data": {
      "text/plain": [
       "(0, 3.5)"
      ]
     },
     "execution_count": 139,
     "metadata": {},
     "output_type": "execute_result"
    },
    {
     "data": {
      "image/png": "[encoded data removed]",
      "text/plain": [
       "<Figure size 432x288 with 1 Axes>"
      ]
     },
     "metadata": {
      "needs_background": "light"
     },
     "output_type": "display_data"
    }
   ],
   "source": [
    "plt.scatter(y_test, y_pred_LR_test, marker='.', alpha=0.5)\n",
    "plt.scatter(y_test, y_pred_RFR_test, color='red', marker='.', alpha=0.2)\n",
    "plt.scatter(y_test, y_pred_XGBR_test, color='green', marker='.', alpha=0.2)\n",
    "plt.scatter(temp['RHOB'], temp['RHOB_GARD'], color='grey', alpha=0.1)\n",
    "plt.xlim(0,3.5)\n",
    "plt.ylim(0,3.5)"
   ]
  },
  {
   "cell_type": "code",
   "execution_count": 138,
   "metadata": {},
   "outputs": [
    {
     "name": "stdout",
     "output_type": "stream",
     "text": [
      "RMSE on Test Data for LR: 0.12362932607570071\n",
      "RMSE on Test Data for RFR: 0.08114450881302587\n",
      "RMSE on Test Data for XGBR: 0.10860862088941099\n"
     ]
    }
   ],
   "source": [
    "print(f'RMSE on Test Data for LR: {mean_squared_error(y_test, y_pred_LR_test)**0.5}')\n",
    "print(f'RMSE on Test Data for RFR: {mean_squared_error(y_test, y_pred_RFR_test)**0.5}')\n",
    "print(f'RMSE on Test Data for XGBR: {mean_squared_error(y_test, y_pred_XGBR_test)**0.5}')"
   ]
  },
  {
   "cell_type": "code",
   "execution_count": 128,
   "metadata": {},
   "outputs": [],
   "source": [
    "# Gardner Equation\n",
    "def gardners_equation_rhob(curve):\n",
    "    \"\"\"Simplified Gardners Equation\n",
    "\n",
    "    Parameters\n",
    "    ----------\n",
    "    curve :\n",
    "        Compressional Slowness\n",
    "\n",
    "    Returns\n",
    "    -------\n",
    "    float\n",
    "        Computed RHOB from Gardner's Equation\n",
    "    \"\"\"\n",
    "    a_metric = 0.31 #m/s\n",
    "    a_imperial = 0.23 #ft/s\n",
    "    b = 0.25\n",
    "    \n",
    "    vp = 1000000 / curve \n",
    "    rhob = a_imperial * (vp** b)\n",
    "\n",
    "    return rhob"
   ]
  },
  {
   "cell_type": "code",
   "execution_count": 134,
   "metadata": {},
   "outputs": [],
   "source": [
    "temp['RHOB_GARD'] = temp.apply(lambda x: gardners_equation_rhob(x.loc['DTC']), axis=1)"
   ]
  },
  {
   "cell_type": "code",
   "execution_count": 135,
   "metadata": {
    "scrolled": true
   },
   "outputs": [
    {
     "data": {
      "text/html": [
       "<div>\n",
       "<style scoped>\n",
       "    .dataframe tbody tr th:only-of-type {\n",
       "        vertical-align: middle;\n",
       "    }\n",
       "\n",
       "    .dataframe tbody tr th {\n",
       "        vertical-align: top;\n",
       "    }\n",
       "\n",
       "    .dataframe thead th {\n",
       "        text-align: right;\n",
       "    }\n",
       "</style>\n",
       "<table border=\"1\" class=\"dataframe\">\n",
       "  <thead>\n",
       "    <tr style=\"text-align: right;\">\n",
       "      <th></th>\n",
       "      <th>VSHALE</th>\n",
       "      <th>DTC</th>\n",
       "      <th>TVD</th>\n",
       "      <th>RHOB</th>\n",
       "      <th>RHOB_GARD</th>\n",
       "    </tr>\n",
       "  </thead>\n",
       "  <tbody>\n",
       "    <tr>\n",
       "      <th>0</th>\n",
       "      <td>0.756582</td>\n",
       "      <td>161.131180</td>\n",
       "      <td>469.501831</td>\n",
       "      <td>1.884186</td>\n",
       "      <td>2.041423</td>\n",
       "    </tr>\n",
       "    <tr>\n",
       "      <th>1</th>\n",
       "      <td>0.745754</td>\n",
       "      <td>160.603470</td>\n",
       "      <td>469.653809</td>\n",
       "      <td>1.889794</td>\n",
       "      <td>2.043098</td>\n",
       "    </tr>\n",
       "    <tr>\n",
       "      <th>2</th>\n",
       "      <td>0.694489</td>\n",
       "      <td>160.173615</td>\n",
       "      <td>469.805786</td>\n",
       "      <td>1.896523</td>\n",
       "      <td>2.044467</td>\n",
       "    </tr>\n",
       "    <tr>\n",
       "      <th>3</th>\n",
       "      <td>0.672058</td>\n",
       "      <td>160.149429</td>\n",
       "      <td>469.957794</td>\n",
       "      <td>1.891913</td>\n",
       "      <td>2.044544</td>\n",
       "    </tr>\n",
       "    <tr>\n",
       "      <th>4</th>\n",
       "      <td>0.658785</td>\n",
       "      <td>160.128342</td>\n",
       "      <td>470.109772</td>\n",
       "      <td>1.880034</td>\n",
       "      <td>2.044611</td>\n",
       "    </tr>\n",
       "    <tr>\n",
       "      <th>...</th>\n",
       "      <td>...</td>\n",
       "      <td>...</td>\n",
       "      <td>...</td>\n",
       "      <td>...</td>\n",
       "      <td>...</td>\n",
       "    </tr>\n",
       "    <tr>\n",
       "      <th>1170498</th>\n",
       "      <td>0.101022</td>\n",
       "      <td>99.159462</td>\n",
       "      <td>3107.236816</td>\n",
       "      <td>2.417872</td>\n",
       "      <td>2.304859</td>\n",
       "    </tr>\n",
       "    <tr>\n",
       "      <th>1170499</th>\n",
       "      <td>0.153565</td>\n",
       "      <td>99.159462</td>\n",
       "      <td>3107.388672</td>\n",
       "      <td>2.408293</td>\n",
       "      <td>2.304859</td>\n",
       "    </tr>\n",
       "    <tr>\n",
       "      <th>1170500</th>\n",
       "      <td>0.152772</td>\n",
       "      <td>99.159462</td>\n",
       "      <td>3107.540771</td>\n",
       "      <td>2.397462</td>\n",
       "      <td>2.304859</td>\n",
       "    </tr>\n",
       "    <tr>\n",
       "      <th>1170501</th>\n",
       "      <td>0.095780</td>\n",
       "      <td>99.159462</td>\n",
       "      <td>3107.692871</td>\n",
       "      <td>2.383679</td>\n",
       "      <td>2.304859</td>\n",
       "    </tr>\n",
       "    <tr>\n",
       "      <th>1170502</th>\n",
       "      <td>0.053036</td>\n",
       "      <td>99.159462</td>\n",
       "      <td>3107.844727</td>\n",
       "      <td>2.380656</td>\n",
       "      <td>2.304859</td>\n",
       "    </tr>\n",
       "  </tbody>\n",
       "</table>\n",
       "<p>820201 rows × 5 columns</p>\n",
       "</div>"
      ],
      "text/plain": [
       "           VSHALE         DTC          TVD      RHOB  RHOB_GARD\n",
       "0        0.756582  161.131180   469.501831  1.884186   2.041423\n",
       "1        0.745754  160.603470   469.653809  1.889794   2.043098\n",
       "2        0.694489  160.173615   469.805786  1.896523   2.044467\n",
       "3        0.672058  160.149429   469.957794  1.891913   2.044544\n",
       "4        0.658785  160.128342   470.109772  1.880034   2.044611\n",
       "...           ...         ...          ...       ...        ...\n",
       "1170498  0.101022   99.159462  3107.236816  2.417872   2.304859\n",
       "1170499  0.153565   99.159462  3107.388672  2.408293   2.304859\n",
       "1170500  0.152772   99.159462  3107.540771  2.397462   2.304859\n",
       "1170501  0.095780   99.159462  3107.692871  2.383679   2.304859\n",
       "1170502  0.053036   99.159462  3107.844727  2.380656   2.304859\n",
       "\n",
       "[820201 rows x 5 columns]"
      ]
     },
     "execution_count": 135,
     "metadata": {},
     "output_type": "execute_result"
    }
   ],
   "source": [
    "temp"
   ]
  },
  {
   "cell_type": "markdown",
   "metadata": {},
   "source": [
    "# Final RHOB Prediction"
   ]
  },
  {
   "cell_type": "markdown",
   "metadata": {},
   "source": [
    "**RandomForestRegressor appears to perform the best out of the ones tested**  \n",
    "  \n",
    "  Lets attempt to build a synthetic RHOB and Fix the existing one"
   ]
  },
  {
   "cell_type": "code",
   "execution_count": 70,
   "metadata": {},
   "outputs": [
    {
     "name": "stdout",
     "output_type": "stream",
     "text": [
      "<class 'pandas.core.frame.DataFrame'>\n",
      "RangeIndex: 1170511 entries, 0 to 1170510\n",
      "Data columns (total 7 columns):\n",
      "Z_LOC       1159736 non-null float64\n",
      "RHOB        1009242 non-null float64\n",
      "DIFF_CAL    1019826 non-null float64\n",
      "GR_NORM     1170511 non-null float64\n",
      "VSHALE      1170511 non-null float64\n",
      "DTC         1170511 non-null float64\n",
      "TVD         1170511 non-null float64\n",
      "dtypes: float64(7)\n",
      "memory usage: 62.5 MB\n"
     ]
    }
   ],
   "source": [
    "workingdf.info()"
   ]
  },
  {
   "cell_type": "code",
   "execution_count": 71,
   "metadata": {},
   "outputs": [],
   "source": [
    "X_full = workingdf.loc[:,['VSHALE', 'DTC', 'TVD', 'RHOB']].copy()"
   ]
  },
  {
   "cell_type": "code",
   "execution_count": 72,
   "metadata": {
    "scrolled": true
   },
   "outputs": [
    {
     "data": {
      "text/html": [
       "<div>\n",
       "<style scoped>\n",
       "    .dataframe tbody tr th:only-of-type {\n",
       "        vertical-align: middle;\n",
       "    }\n",
       "\n",
       "    .dataframe tbody tr th {\n",
       "        vertical-align: top;\n",
       "    }\n",
       "\n",
       "    .dataframe thead th {\n",
       "        text-align: right;\n",
       "    }\n",
       "</style>\n",
       "<table border=\"1\" class=\"dataframe\">\n",
       "  <thead>\n",
       "    <tr style=\"text-align: right;\">\n",
       "      <th></th>\n",
       "      <th>VSHALE</th>\n",
       "      <th>DTC</th>\n",
       "      <th>TVD</th>\n",
       "      <th>RHOB</th>\n",
       "    </tr>\n",
       "  </thead>\n",
       "  <tbody>\n",
       "    <tr>\n",
       "      <th>0</th>\n",
       "      <td>0.756582</td>\n",
       "      <td>161.131180</td>\n",
       "      <td>469.501831</td>\n",
       "      <td>1.884186</td>\n",
       "    </tr>\n",
       "    <tr>\n",
       "      <th>1</th>\n",
       "      <td>0.745754</td>\n",
       "      <td>160.603470</td>\n",
       "      <td>469.653809</td>\n",
       "      <td>1.889794</td>\n",
       "    </tr>\n",
       "    <tr>\n",
       "      <th>2</th>\n",
       "      <td>0.694489</td>\n",
       "      <td>160.173615</td>\n",
       "      <td>469.805786</td>\n",
       "      <td>1.896523</td>\n",
       "    </tr>\n",
       "    <tr>\n",
       "      <th>3</th>\n",
       "      <td>0.672058</td>\n",
       "      <td>160.149429</td>\n",
       "      <td>469.957794</td>\n",
       "      <td>1.891913</td>\n",
       "    </tr>\n",
       "    <tr>\n",
       "      <th>4</th>\n",
       "      <td>0.658785</td>\n",
       "      <td>160.128342</td>\n",
       "      <td>470.109772</td>\n",
       "      <td>1.880034</td>\n",
       "    </tr>\n",
       "    <tr>\n",
       "      <th>...</th>\n",
       "      <td>...</td>\n",
       "      <td>...</td>\n",
       "      <td>...</td>\n",
       "      <td>...</td>\n",
       "    </tr>\n",
       "    <tr>\n",
       "      <th>1170506</th>\n",
       "      <td>0.213445</td>\n",
       "      <td>99.159462</td>\n",
       "      <td>3107.844727</td>\n",
       "      <td>2.527984</td>\n",
       "    </tr>\n",
       "    <tr>\n",
       "      <th>1170507</th>\n",
       "      <td>0.203796</td>\n",
       "      <td>99.159462</td>\n",
       "      <td>3107.844727</td>\n",
       "      <td>2.537613</td>\n",
       "    </tr>\n",
       "    <tr>\n",
       "      <th>1170508</th>\n",
       "      <td>0.166264</td>\n",
       "      <td>99.159462</td>\n",
       "      <td>3107.844727</td>\n",
       "      <td>2.491860</td>\n",
       "    </tr>\n",
       "    <tr>\n",
       "      <th>1170509</th>\n",
       "      <td>0.121333</td>\n",
       "      <td>99.159462</td>\n",
       "      <td>3107.844727</td>\n",
       "      <td>2.447539</td>\n",
       "    </tr>\n",
       "    <tr>\n",
       "      <th>1170510</th>\n",
       "      <td>0.090366</td>\n",
       "      <td>99.159462</td>\n",
       "      <td>3107.844727</td>\n",
       "      <td>2.430716</td>\n",
       "    </tr>\n",
       "  </tbody>\n",
       "</table>\n",
       "<p>1170511 rows × 4 columns</p>\n",
       "</div>"
      ],
      "text/plain": [
       "           VSHALE         DTC          TVD      RHOB\n",
       "0        0.756582  161.131180   469.501831  1.884186\n",
       "1        0.745754  160.603470   469.653809  1.889794\n",
       "2        0.694489  160.173615   469.805786  1.896523\n",
       "3        0.672058  160.149429   469.957794  1.891913\n",
       "4        0.658785  160.128342   470.109772  1.880034\n",
       "...           ...         ...          ...       ...\n",
       "1170506  0.213445   99.159462  3107.844727  2.527984\n",
       "1170507  0.203796   99.159462  3107.844727  2.537613\n",
       "1170508  0.166264   99.159462  3107.844727  2.491860\n",
       "1170509  0.121333   99.159462  3107.844727  2.447539\n",
       "1170510  0.090366   99.159462  3107.844727  2.430716\n",
       "\n",
       "[1170511 rows x 4 columns]"
      ]
     },
     "execution_count": 72,
     "metadata": {},
     "output_type": "execute_result"
    }
   ],
   "source": [
    "X_full"
   ]
  },
  {
   "cell_type": "code",
   "execution_count": 73,
   "metadata": {},
   "outputs": [],
   "source": [
    "col_names = ['DTC', 'TVD', 'VSHALE']\n",
    "features = X_full[col_names]\n",
    "scaler=StandardScaler().fit(features.values)\n",
    "features = scaler.transform(features.values)"
   ]
  },
  {
   "cell_type": "code",
   "execution_count": 74,
   "metadata": {},
   "outputs": [],
   "source": [
    "X_full[col_names]= features"
   ]
  },
  {
   "cell_type": "code",
   "execution_count": 75,
   "metadata": {
    "scrolled": true
   },
   "outputs": [
    {
     "data": {
      "text/html": [
       "<div>\n",
       "<style scoped>\n",
       "    .dataframe tbody tr th:only-of-type {\n",
       "        vertical-align: middle;\n",
       "    }\n",
       "\n",
       "    .dataframe tbody tr th {\n",
       "        vertical-align: top;\n",
       "    }\n",
       "\n",
       "    .dataframe thead th {\n",
       "        text-align: right;\n",
       "    }\n",
       "</style>\n",
       "<table border=\"1\" class=\"dataframe\">\n",
       "  <thead>\n",
       "    <tr style=\"text-align: right;\">\n",
       "      <th></th>\n",
       "      <th>VSHALE</th>\n",
       "      <th>DTC</th>\n",
       "      <th>TVD</th>\n",
       "      <th>RHOB</th>\n",
       "    </tr>\n",
       "  </thead>\n",
       "  <tbody>\n",
       "    <tr>\n",
       "      <th>0</th>\n",
       "      <td>0.946636</td>\n",
       "      <td>1.621236</td>\n",
       "      <td>-1.693966</td>\n",
       "      <td>1.884186</td>\n",
       "    </tr>\n",
       "    <tr>\n",
       "      <th>1</th>\n",
       "      <td>0.910147</td>\n",
       "      <td>1.603939</td>\n",
       "      <td>-1.693811</td>\n",
       "      <td>1.889794</td>\n",
       "    </tr>\n",
       "    <tr>\n",
       "      <th>2</th>\n",
       "      <td>0.737387</td>\n",
       "      <td>1.589850</td>\n",
       "      <td>-1.693655</td>\n",
       "      <td>1.896523</td>\n",
       "    </tr>\n",
       "    <tr>\n",
       "      <th>3</th>\n",
       "      <td>0.661797</td>\n",
       "      <td>1.589057</td>\n",
       "      <td>-1.693500</td>\n",
       "      <td>1.891913</td>\n",
       "    </tr>\n",
       "    <tr>\n",
       "      <th>4</th>\n",
       "      <td>0.617068</td>\n",
       "      <td>1.588366</td>\n",
       "      <td>-1.693344</td>\n",
       "      <td>1.880034</td>\n",
       "    </tr>\n",
       "    <tr>\n",
       "      <th>...</th>\n",
       "      <td>...</td>\n",
       "      <td>...</td>\n",
       "      <td>...</td>\n",
       "      <td>...</td>\n",
       "    </tr>\n",
       "    <tr>\n",
       "      <th>1170506</th>\n",
       "      <td>-0.883695</td>\n",
       "      <td>-0.410024</td>\n",
       "      <td>1.006090</td>\n",
       "      <td>2.527984</td>\n",
       "    </tr>\n",
       "    <tr>\n",
       "      <th>1170507</th>\n",
       "      <td>-0.916211</td>\n",
       "      <td>-0.410024</td>\n",
       "      <td>1.006090</td>\n",
       "      <td>2.537613</td>\n",
       "    </tr>\n",
       "    <tr>\n",
       "      <th>1170508</th>\n",
       "      <td>-1.042689</td>\n",
       "      <td>-0.410024</td>\n",
       "      <td>1.006090</td>\n",
       "      <td>2.491860</td>\n",
       "    </tr>\n",
       "    <tr>\n",
       "      <th>1170509</th>\n",
       "      <td>-1.194103</td>\n",
       "      <td>-0.410024</td>\n",
       "      <td>1.006090</td>\n",
       "      <td>2.447539</td>\n",
       "    </tr>\n",
       "    <tr>\n",
       "      <th>1170510</th>\n",
       "      <td>-1.298462</td>\n",
       "      <td>-0.410024</td>\n",
       "      <td>1.006090</td>\n",
       "      <td>2.430716</td>\n",
       "    </tr>\n",
       "  </tbody>\n",
       "</table>\n",
       "<p>1170511 rows × 4 columns</p>\n",
       "</div>"
      ],
      "text/plain": [
       "           VSHALE       DTC       TVD      RHOB\n",
       "0        0.946636  1.621236 -1.693966  1.884186\n",
       "1        0.910147  1.603939 -1.693811  1.889794\n",
       "2        0.737387  1.589850 -1.693655  1.896523\n",
       "3        0.661797  1.589057 -1.693500  1.891913\n",
       "4        0.617068  1.588366 -1.693344  1.880034\n",
       "...           ...       ...       ...       ...\n",
       "1170506 -0.883695 -0.410024  1.006090  2.527984\n",
       "1170507 -0.916211 -0.410024  1.006090  2.537613\n",
       "1170508 -1.042689 -0.410024  1.006090  2.491860\n",
       "1170509 -1.194103 -0.410024  1.006090  2.447539\n",
       "1170510 -1.298462 -0.410024  1.006090  2.430716\n",
       "\n",
       "[1170511 rows x 4 columns]"
      ]
     },
     "execution_count": 75,
     "metadata": {},
     "output_type": "execute_result"
    }
   ],
   "source": [
    "X_full"
   ]
  },
  {
   "cell_type": "code",
   "execution_count": 76,
   "metadata": {},
   "outputs": [],
   "source": [
    "X_features = X_full.loc[:,['VSHALE', 'DTC', 'TVD']]"
   ]
  },
  {
   "cell_type": "code",
   "execution_count": 77,
   "metadata": {},
   "outputs": [],
   "source": [
    "full_rhob_pred = model_RFR.predict(X_features)"
   ]
  },
  {
   "cell_type": "code",
   "execution_count": 78,
   "metadata": {},
   "outputs": [],
   "source": [
    "X_full['RHOB_SYNTH'] = full_rhob_pred"
   ]
  },
  {
   "cell_type": "code",
   "execution_count": 79,
   "metadata": {
    "scrolled": true
   },
   "outputs": [
    {
     "data": {
      "text/html": [
       "<div>\n",
       "<style scoped>\n",
       "    .dataframe tbody tr th:only-of-type {\n",
       "        vertical-align: middle;\n",
       "    }\n",
       "\n",
       "    .dataframe tbody tr th {\n",
       "        vertical-align: top;\n",
       "    }\n",
       "\n",
       "    .dataframe thead th {\n",
       "        text-align: right;\n",
       "    }\n",
       "</style>\n",
       "<table border=\"1\" class=\"dataframe\">\n",
       "  <thead>\n",
       "    <tr style=\"text-align: right;\">\n",
       "      <th></th>\n",
       "      <th>VSHALE</th>\n",
       "      <th>DTC</th>\n",
       "      <th>TVD</th>\n",
       "      <th>RHOB</th>\n",
       "      <th>RHOB_SYNTH</th>\n",
       "    </tr>\n",
       "  </thead>\n",
       "  <tbody>\n",
       "    <tr>\n",
       "      <th>0</th>\n",
       "      <td>0.946636</td>\n",
       "      <td>1.621236</td>\n",
       "      <td>-1.693966</td>\n",
       "      <td>1.884186</td>\n",
       "      <td>2.027840</td>\n",
       "    </tr>\n",
       "    <tr>\n",
       "      <th>1</th>\n",
       "      <td>0.910147</td>\n",
       "      <td>1.603939</td>\n",
       "      <td>-1.693811</td>\n",
       "      <td>1.889794</td>\n",
       "      <td>2.043292</td>\n",
       "    </tr>\n",
       "    <tr>\n",
       "      <th>2</th>\n",
       "      <td>0.737387</td>\n",
       "      <td>1.589850</td>\n",
       "      <td>-1.693655</td>\n",
       "      <td>1.896523</td>\n",
       "      <td>2.063121</td>\n",
       "    </tr>\n",
       "    <tr>\n",
       "      <th>3</th>\n",
       "      <td>0.661797</td>\n",
       "      <td>1.589057</td>\n",
       "      <td>-1.693500</td>\n",
       "      <td>1.891913</td>\n",
       "      <td>2.072366</td>\n",
       "    </tr>\n",
       "    <tr>\n",
       "      <th>4</th>\n",
       "      <td>0.617068</td>\n",
       "      <td>1.588366</td>\n",
       "      <td>-1.693344</td>\n",
       "      <td>1.880034</td>\n",
       "      <td>2.072366</td>\n",
       "    </tr>\n",
       "    <tr>\n",
       "      <th>...</th>\n",
       "      <td>...</td>\n",
       "      <td>...</td>\n",
       "      <td>...</td>\n",
       "      <td>...</td>\n",
       "      <td>...</td>\n",
       "    </tr>\n",
       "    <tr>\n",
       "      <th>1170506</th>\n",
       "      <td>-0.883695</td>\n",
       "      <td>-0.410024</td>\n",
       "      <td>1.006090</td>\n",
       "      <td>2.527984</td>\n",
       "      <td>2.546154</td>\n",
       "    </tr>\n",
       "    <tr>\n",
       "      <th>1170507</th>\n",
       "      <td>-0.916211</td>\n",
       "      <td>-0.410024</td>\n",
       "      <td>1.006090</td>\n",
       "      <td>2.537613</td>\n",
       "      <td>2.512992</td>\n",
       "    </tr>\n",
       "    <tr>\n",
       "      <th>1170508</th>\n",
       "      <td>-1.042689</td>\n",
       "      <td>-0.410024</td>\n",
       "      <td>1.006090</td>\n",
       "      <td>2.491860</td>\n",
       "      <td>2.542477</td>\n",
       "    </tr>\n",
       "    <tr>\n",
       "      <th>1170509</th>\n",
       "      <td>-1.194103</td>\n",
       "      <td>-0.410024</td>\n",
       "      <td>1.006090</td>\n",
       "      <td>2.447539</td>\n",
       "      <td>2.493705</td>\n",
       "    </tr>\n",
       "    <tr>\n",
       "      <th>1170510</th>\n",
       "      <td>-1.298462</td>\n",
       "      <td>-0.410024</td>\n",
       "      <td>1.006090</td>\n",
       "      <td>2.430716</td>\n",
       "      <td>2.528490</td>\n",
       "    </tr>\n",
       "  </tbody>\n",
       "</table>\n",
       "<p>1170511 rows × 5 columns</p>\n",
       "</div>"
      ],
      "text/plain": [
       "           VSHALE       DTC       TVD      RHOB  RHOB_SYNTH\n",
       "0        0.946636  1.621236 -1.693966  1.884186    2.027840\n",
       "1        0.910147  1.603939 -1.693811  1.889794    2.043292\n",
       "2        0.737387  1.589850 -1.693655  1.896523    2.063121\n",
       "3        0.661797  1.589057 -1.693500  1.891913    2.072366\n",
       "4        0.617068  1.588366 -1.693344  1.880034    2.072366\n",
       "...           ...       ...       ...       ...         ...\n",
       "1170506 -0.883695 -0.410024  1.006090  2.527984    2.546154\n",
       "1170507 -0.916211 -0.410024  1.006090  2.537613    2.512992\n",
       "1170508 -1.042689 -0.410024  1.006090  2.491860    2.542477\n",
       "1170509 -1.194103 -0.410024  1.006090  2.447539    2.493705\n",
       "1170510 -1.298462 -0.410024  1.006090  2.430716    2.528490\n",
       "\n",
       "[1170511 rows x 5 columns]"
      ]
     },
     "execution_count": 79,
     "metadata": {},
     "output_type": "execute_result"
    }
   ],
   "source": [
    "X_full"
   ]
  },
  {
   "cell_type": "code",
   "execution_count": 80,
   "metadata": {},
   "outputs": [
    {
     "data": {
      "text/plain": [
       "(0, 3.5)"
      ]
     },
     "execution_count": 80,
     "metadata": {},
     "output_type": "execute_result"
    },
    {
     "data": {
      "image/png": "[encoded data removed]",
      "text/plain": [
       "<Figure size 432x288 with 1 Axes>"
      ]
     },
     "metadata": {
      "needs_background": "light"
     },
     "output_type": "display_data"
    }
   ],
   "source": [
    "plt.scatter(X_full['RHOB'], X_full['RHOB_SYNTH'], marker='.', alpha=0.5)\n",
    "plt.xlim(0,3.5)\n",
    "plt.ylim(0,3.5)"
   ]
  },
  {
   "cell_type": "code",
   "execution_count": 81,
   "metadata": {},
   "outputs": [
    {
     "data": {
      "text/html": [
       "<div>\n",
       "<style scoped>\n",
       "    .dataframe tbody tr th:only-of-type {\n",
       "        vertical-align: middle;\n",
       "    }\n",
       "\n",
       "    .dataframe tbody tr th {\n",
       "        vertical-align: top;\n",
       "    }\n",
       "\n",
       "    .dataframe thead th {\n",
       "        text-align: right;\n",
       "    }\n",
       "</style>\n",
       "<table border=\"1\" class=\"dataframe\">\n",
       "  <thead>\n",
       "    <tr style=\"text-align: right;\">\n",
       "      <th></th>\n",
       "      <th>VSHALE</th>\n",
       "      <th>DTC</th>\n",
       "      <th>TVD</th>\n",
       "    </tr>\n",
       "  </thead>\n",
       "  <tbody>\n",
       "    <tr>\n",
       "      <th>0</th>\n",
       "      <td>0.946636</td>\n",
       "      <td>1.621236</td>\n",
       "      <td>-1.693966</td>\n",
       "    </tr>\n",
       "    <tr>\n",
       "      <th>1</th>\n",
       "      <td>0.910147</td>\n",
       "      <td>1.603939</td>\n",
       "      <td>-1.693811</td>\n",
       "    </tr>\n",
       "    <tr>\n",
       "      <th>2</th>\n",
       "      <td>0.737387</td>\n",
       "      <td>1.589850</td>\n",
       "      <td>-1.693655</td>\n",
       "    </tr>\n",
       "    <tr>\n",
       "      <th>3</th>\n",
       "      <td>0.661797</td>\n",
       "      <td>1.589057</td>\n",
       "      <td>-1.693500</td>\n",
       "    </tr>\n",
       "    <tr>\n",
       "      <th>4</th>\n",
       "      <td>0.617068</td>\n",
       "      <td>1.588366</td>\n",
       "      <td>-1.693344</td>\n",
       "    </tr>\n",
       "    <tr>\n",
       "      <th>...</th>\n",
       "      <td>...</td>\n",
       "      <td>...</td>\n",
       "      <td>...</td>\n",
       "    </tr>\n",
       "    <tr>\n",
       "      <th>1170506</th>\n",
       "      <td>-0.883695</td>\n",
       "      <td>-0.410024</td>\n",
       "      <td>1.006090</td>\n",
       "    </tr>\n",
       "    <tr>\n",
       "      <th>1170507</th>\n",
       "      <td>-0.916211</td>\n",
       "      <td>-0.410024</td>\n",
       "      <td>1.006090</td>\n",
       "    </tr>\n",
       "    <tr>\n",
       "      <th>1170508</th>\n",
       "      <td>-1.042689</td>\n",
       "      <td>-0.410024</td>\n",
       "      <td>1.006090</td>\n",
       "    </tr>\n",
       "    <tr>\n",
       "      <th>1170509</th>\n",
       "      <td>-1.194103</td>\n",
       "      <td>-0.410024</td>\n",
       "      <td>1.006090</td>\n",
       "    </tr>\n",
       "    <tr>\n",
       "      <th>1170510</th>\n",
       "      <td>-1.298462</td>\n",
       "      <td>-0.410024</td>\n",
       "      <td>1.006090</td>\n",
       "    </tr>\n",
       "  </tbody>\n",
       "</table>\n",
       "<p>1170511 rows × 3 columns</p>\n",
       "</div>"
      ],
      "text/plain": [
       "           VSHALE       DTC       TVD\n",
       "0        0.946636  1.621236 -1.693966\n",
       "1        0.910147  1.603939 -1.693811\n",
       "2        0.737387  1.589850 -1.693655\n",
       "3        0.661797  1.589057 -1.693500\n",
       "4        0.617068  1.588366 -1.693344\n",
       "...           ...       ...       ...\n",
       "1170506 -0.883695 -0.410024  1.006090\n",
       "1170507 -0.916211 -0.410024  1.006090\n",
       "1170508 -1.042689 -0.410024  1.006090\n",
       "1170509 -1.194103 -0.410024  1.006090\n",
       "1170510 -1.298462 -0.410024  1.006090\n",
       "\n",
       "[1170511 rows x 3 columns]"
      ]
     },
     "execution_count": 81,
     "metadata": {},
     "output_type": "execute_result"
    }
   ],
   "source": [
    "X_features"
   ]
  },
  {
   "cell_type": "code",
   "execution_count": 110,
   "metadata": {},
   "outputs": [],
   "source": [
    "workingdf['RHOB_SYNTH'] = full_rhob_pred"
   ]
  },
  {
   "cell_type": "code",
   "execution_count": 83,
   "metadata": {},
   "outputs": [
    {
     "data": {
      "text/html": [
       "<div>\n",
       "<style scoped>\n",
       "    .dataframe tbody tr th:only-of-type {\n",
       "        vertical-align: middle;\n",
       "    }\n",
       "\n",
       "    .dataframe tbody tr th {\n",
       "        vertical-align: top;\n",
       "    }\n",
       "\n",
       "    .dataframe thead th {\n",
       "        text-align: right;\n",
       "    }\n",
       "</style>\n",
       "<table border=\"1\" class=\"dataframe\">\n",
       "  <thead>\n",
       "    <tr style=\"text-align: right;\">\n",
       "      <th></th>\n",
       "      <th>Z_LOC</th>\n",
       "      <th>RHOB</th>\n",
       "      <th>DIFF_CAL</th>\n",
       "      <th>GR_NORM</th>\n",
       "      <th>VSHALE</th>\n",
       "      <th>DTC</th>\n",
       "      <th>TVD</th>\n",
       "      <th>RHOB_SYNTH</th>\n",
       "    </tr>\n",
       "  </thead>\n",
       "  <tbody>\n",
       "    <tr>\n",
       "      <th>0</th>\n",
       "      <td>-469.501831</td>\n",
       "      <td>1.884186</td>\n",
       "      <td>1.980835</td>\n",
       "      <td>112.004200</td>\n",
       "      <td>0.756582</td>\n",
       "      <td>161.131180</td>\n",
       "      <td>469.501831</td>\n",
       "      <td>2.027840</td>\n",
       "    </tr>\n",
       "    <tr>\n",
       "      <th>1</th>\n",
       "      <td>-469.653809</td>\n",
       "      <td>1.889794</td>\n",
       "      <td>1.968800</td>\n",
       "      <td>111.128597</td>\n",
       "      <td>0.745754</td>\n",
       "      <td>160.603470</td>\n",
       "      <td>469.653809</td>\n",
       "      <td>2.043292</td>\n",
       "    </tr>\n",
       "    <tr>\n",
       "      <th>2</th>\n",
       "      <td>-469.805786</td>\n",
       "      <td>1.896523</td>\n",
       "      <td>1.968800</td>\n",
       "      <td>106.982973</td>\n",
       "      <td>0.694489</td>\n",
       "      <td>160.173615</td>\n",
       "      <td>469.805786</td>\n",
       "      <td>2.063121</td>\n",
       "    </tr>\n",
       "    <tr>\n",
       "      <th>3</th>\n",
       "      <td>-469.957794</td>\n",
       "      <td>1.891913</td>\n",
       "      <td>1.959282</td>\n",
       "      <td>105.169086</td>\n",
       "      <td>0.672058</td>\n",
       "      <td>160.149429</td>\n",
       "      <td>469.957794</td>\n",
       "      <td>2.072366</td>\n",
       "    </tr>\n",
       "    <tr>\n",
       "      <th>4</th>\n",
       "      <td>-470.109772</td>\n",
       "      <td>1.880034</td>\n",
       "      <td>1.953100</td>\n",
       "      <td>104.095752</td>\n",
       "      <td>0.658785</td>\n",
       "      <td>160.128342</td>\n",
       "      <td>470.109772</td>\n",
       "      <td>2.072366</td>\n",
       "    </tr>\n",
       "    <tr>\n",
       "      <th>...</th>\n",
       "      <td>...</td>\n",
       "      <td>...</td>\n",
       "      <td>...</td>\n",
       "      <td>...</td>\n",
       "      <td>...</td>\n",
       "      <td>...</td>\n",
       "      <td>...</td>\n",
       "      <td>...</td>\n",
       "    </tr>\n",
       "    <tr>\n",
       "      <th>1170506</th>\n",
       "      <td>NaN</td>\n",
       "      <td>2.527984</td>\n",
       "      <td>-0.076830</td>\n",
       "      <td>68.082822</td>\n",
       "      <td>0.213445</td>\n",
       "      <td>99.159462</td>\n",
       "      <td>3107.844727</td>\n",
       "      <td>2.546154</td>\n",
       "    </tr>\n",
       "    <tr>\n",
       "      <th>1170507</th>\n",
       "      <td>NaN</td>\n",
       "      <td>2.537613</td>\n",
       "      <td>-0.120756</td>\n",
       "      <td>67.302549</td>\n",
       "      <td>0.203796</td>\n",
       "      <td>99.159462</td>\n",
       "      <td>3107.844727</td>\n",
       "      <td>2.512992</td>\n",
       "    </tr>\n",
       "    <tr>\n",
       "      <th>1170508</th>\n",
       "      <td>NaN</td>\n",
       "      <td>2.491860</td>\n",
       "      <td>-0.149752</td>\n",
       "      <td>64.267543</td>\n",
       "      <td>0.166264</td>\n",
       "      <td>99.159462</td>\n",
       "      <td>3107.844727</td>\n",
       "      <td>2.542477</td>\n",
       "    </tr>\n",
       "    <tr>\n",
       "      <th>1170509</th>\n",
       "      <td>NaN</td>\n",
       "      <td>2.447539</td>\n",
       "      <td>-0.186221</td>\n",
       "      <td>60.634149</td>\n",
       "      <td>0.121333</td>\n",
       "      <td>99.159462</td>\n",
       "      <td>3107.844727</td>\n",
       "      <td>2.493705</td>\n",
       "    </tr>\n",
       "    <tr>\n",
       "      <th>1170510</th>\n",
       "      <td>NaN</td>\n",
       "      <td>2.430716</td>\n",
       "      <td>-0.205090</td>\n",
       "      <td>58.129917</td>\n",
       "      <td>0.090366</td>\n",
       "      <td>99.159462</td>\n",
       "      <td>3107.844727</td>\n",
       "      <td>2.528490</td>\n",
       "    </tr>\n",
       "  </tbody>\n",
       "</table>\n",
       "<p>1170511 rows × 8 columns</p>\n",
       "</div>"
      ],
      "text/plain": [
       "              Z_LOC      RHOB  DIFF_CAL     GR_NORM    VSHALE         DTC  \\\n",
       "0       -469.501831  1.884186  1.980835  112.004200  0.756582  161.131180   \n",
       "1       -469.653809  1.889794  1.968800  111.128597  0.745754  160.603470   \n",
       "2       -469.805786  1.896523  1.968800  106.982973  0.694489  160.173615   \n",
       "3       -469.957794  1.891913  1.959282  105.169086  0.672058  160.149429   \n",
       "4       -470.109772  1.880034  1.953100  104.095752  0.658785  160.128342   \n",
       "...             ...       ...       ...         ...       ...         ...   \n",
       "1170506         NaN  2.527984 -0.076830   68.082822  0.213445   99.159462   \n",
       "1170507         NaN  2.537613 -0.120756   67.302549  0.203796   99.159462   \n",
       "1170508         NaN  2.491860 -0.149752   64.267543  0.166264   99.159462   \n",
       "1170509         NaN  2.447539 -0.186221   60.634149  0.121333   99.159462   \n",
       "1170510         NaN  2.430716 -0.205090   58.129917  0.090366   99.159462   \n",
       "\n",
       "                 TVD  RHOB_SYNTH  \n",
       "0         469.501831    2.027840  \n",
       "1         469.653809    2.043292  \n",
       "2         469.805786    2.063121  \n",
       "3         469.957794    2.072366  \n",
       "4         470.109772    2.072366  \n",
       "...              ...         ...  \n",
       "1170506  3107.844727    2.546154  \n",
       "1170507  3107.844727    2.512992  \n",
       "1170508  3107.844727    2.542477  \n",
       "1170509  3107.844727    2.493705  \n",
       "1170510  3107.844727    2.528490  \n",
       "\n",
       "[1170511 rows x 8 columns]"
      ]
     },
     "execution_count": 83,
     "metadata": {},
     "output_type": "execute_result"
    }
   ],
   "source": [
    "workingdf"
   ]
  },
  {
   "cell_type": "code",
   "execution_count": 84,
   "metadata": {},
   "outputs": [
    {
     "data": {
      "text/plain": [
       "(0, 3.5)"
      ]
     },
     "execution_count": 84,
     "metadata": {},
     "output_type": "execute_result"
    },
    {
     "data": {
      "image/png": "[encoded data removed]",
      "text/plain": [
       "<Figure size 432x288 with 1 Axes>"
      ]
     },
     "metadata": {
      "needs_background": "light"
     },
     "output_type": "display_data"
    }
   ],
   "source": [
    "plt.scatter(workingdf['RHOB'], workingdf['RHOB_SYNTH'], marker='.', alpha=0.5)\n",
    "plt.xlim(0,3.5)\n",
    "plt.ylim(0,3.5)"
   ]
  },
  {
   "cell_type": "code",
   "execution_count": 111,
   "metadata": {},
   "outputs": [],
   "source": [
    "workingdf['RHOB_COMBINED'] = workingdf['RHOB']\n"
   ]
  },
  {
   "cell_type": "code",
   "execution_count": 112,
   "metadata": {},
   "outputs": [],
   "source": [
    "workingdf.loc[workingdf.DIFF_CAL > 3, \"RHOB_COMBINED\"]=workingdf['RHOB_SYNTH']"
   ]
  },
  {
   "cell_type": "code",
   "execution_count": 113,
   "metadata": {},
   "outputs": [
    {
     "data": {
      "text/html": [
       "<div>\n",
       "<style scoped>\n",
       "    .dataframe tbody tr th:only-of-type {\n",
       "        vertical-align: middle;\n",
       "    }\n",
       "\n",
       "    .dataframe tbody tr th {\n",
       "        vertical-align: top;\n",
       "    }\n",
       "\n",
       "    .dataframe thead th {\n",
       "        text-align: right;\n",
       "    }\n",
       "</style>\n",
       "<table border=\"1\" class=\"dataframe\">\n",
       "  <thead>\n",
       "    <tr style=\"text-align: right;\">\n",
       "      <th></th>\n",
       "      <th>Z_LOC</th>\n",
       "      <th>RHOB</th>\n",
       "      <th>DIFF_CAL</th>\n",
       "      <th>GR_NORM</th>\n",
       "      <th>VSHALE</th>\n",
       "      <th>DTC</th>\n",
       "      <th>NPHI</th>\n",
       "      <th>RHOB_SYNTH</th>\n",
       "      <th>RHOB_COMBINED</th>\n",
       "    </tr>\n",
       "  </thead>\n",
       "  <tbody>\n",
       "    <tr>\n",
       "      <th>0</th>\n",
       "      <td>-469.501831</td>\n",
       "      <td>1.884186</td>\n",
       "      <td>1.980835</td>\n",
       "      <td>112.004200</td>\n",
       "      <td>0.756582</td>\n",
       "      <td>161.131180</td>\n",
       "      <td>NaN</td>\n",
       "      <td>2.027840</td>\n",
       "      <td>1.884186</td>\n",
       "    </tr>\n",
       "    <tr>\n",
       "      <th>1</th>\n",
       "      <td>-469.653809</td>\n",
       "      <td>1.889794</td>\n",
       "      <td>1.968800</td>\n",
       "      <td>111.128597</td>\n",
       "      <td>0.745754</td>\n",
       "      <td>160.603470</td>\n",
       "      <td>NaN</td>\n",
       "      <td>2.043292</td>\n",
       "      <td>1.889794</td>\n",
       "    </tr>\n",
       "    <tr>\n",
       "      <th>2</th>\n",
       "      <td>-469.805786</td>\n",
       "      <td>1.896523</td>\n",
       "      <td>1.968800</td>\n",
       "      <td>106.982973</td>\n",
       "      <td>0.694489</td>\n",
       "      <td>160.173615</td>\n",
       "      <td>NaN</td>\n",
       "      <td>2.063121</td>\n",
       "      <td>1.896523</td>\n",
       "    </tr>\n",
       "    <tr>\n",
       "      <th>3</th>\n",
       "      <td>-469.957794</td>\n",
       "      <td>1.891913</td>\n",
       "      <td>1.959282</td>\n",
       "      <td>105.169086</td>\n",
       "      <td>0.672058</td>\n",
       "      <td>160.149429</td>\n",
       "      <td>NaN</td>\n",
       "      <td>2.072366</td>\n",
       "      <td>1.891913</td>\n",
       "    </tr>\n",
       "    <tr>\n",
       "      <th>4</th>\n",
       "      <td>-470.109772</td>\n",
       "      <td>1.880034</td>\n",
       "      <td>1.953100</td>\n",
       "      <td>104.095752</td>\n",
       "      <td>0.658785</td>\n",
       "      <td>160.128342</td>\n",
       "      <td>NaN</td>\n",
       "      <td>2.072366</td>\n",
       "      <td>1.880034</td>\n",
       "    </tr>\n",
       "    <tr>\n",
       "      <th>...</th>\n",
       "      <td>...</td>\n",
       "      <td>...</td>\n",
       "      <td>...</td>\n",
       "      <td>...</td>\n",
       "      <td>...</td>\n",
       "      <td>...</td>\n",
       "      <td>...</td>\n",
       "      <td>...</td>\n",
       "      <td>...</td>\n",
       "    </tr>\n",
       "    <tr>\n",
       "      <th>1170506</th>\n",
       "      <td>NaN</td>\n",
       "      <td>2.527984</td>\n",
       "      <td>-0.076830</td>\n",
       "      <td>68.082822</td>\n",
       "      <td>0.213445</td>\n",
       "      <td>NaN</td>\n",
       "      <td>NaN</td>\n",
       "      <td>2.546154</td>\n",
       "      <td>2.527984</td>\n",
       "    </tr>\n",
       "    <tr>\n",
       "      <th>1170507</th>\n",
       "      <td>NaN</td>\n",
       "      <td>2.537613</td>\n",
       "      <td>-0.120756</td>\n",
       "      <td>67.302549</td>\n",
       "      <td>0.203796</td>\n",
       "      <td>NaN</td>\n",
       "      <td>NaN</td>\n",
       "      <td>2.512992</td>\n",
       "      <td>2.537613</td>\n",
       "    </tr>\n",
       "    <tr>\n",
       "      <th>1170508</th>\n",
       "      <td>NaN</td>\n",
       "      <td>2.491860</td>\n",
       "      <td>-0.149752</td>\n",
       "      <td>64.267543</td>\n",
       "      <td>0.166264</td>\n",
       "      <td>NaN</td>\n",
       "      <td>NaN</td>\n",
       "      <td>2.542477</td>\n",
       "      <td>2.491860</td>\n",
       "    </tr>\n",
       "    <tr>\n",
       "      <th>1170509</th>\n",
       "      <td>NaN</td>\n",
       "      <td>2.447539</td>\n",
       "      <td>-0.186221</td>\n",
       "      <td>60.634149</td>\n",
       "      <td>0.121333</td>\n",
       "      <td>NaN</td>\n",
       "      <td>NaN</td>\n",
       "      <td>2.493705</td>\n",
       "      <td>2.447539</td>\n",
       "    </tr>\n",
       "    <tr>\n",
       "      <th>1170510</th>\n",
       "      <td>NaN</td>\n",
       "      <td>2.430716</td>\n",
       "      <td>-0.205090</td>\n",
       "      <td>58.129917</td>\n",
       "      <td>0.090366</td>\n",
       "      <td>NaN</td>\n",
       "      <td>NaN</td>\n",
       "      <td>2.528490</td>\n",
       "      <td>2.430716</td>\n",
       "    </tr>\n",
       "  </tbody>\n",
       "</table>\n",
       "<p>1170511 rows × 9 columns</p>\n",
       "</div>"
      ],
      "text/plain": [
       "              Z_LOC      RHOB  DIFF_CAL     GR_NORM    VSHALE         DTC  \\\n",
       "0       -469.501831  1.884186  1.980835  112.004200  0.756582  161.131180   \n",
       "1       -469.653809  1.889794  1.968800  111.128597  0.745754  160.603470   \n",
       "2       -469.805786  1.896523  1.968800  106.982973  0.694489  160.173615   \n",
       "3       -469.957794  1.891913  1.959282  105.169086  0.672058  160.149429   \n",
       "4       -470.109772  1.880034  1.953100  104.095752  0.658785  160.128342   \n",
       "...             ...       ...       ...         ...       ...         ...   \n",
       "1170506         NaN  2.527984 -0.076830   68.082822  0.213445         NaN   \n",
       "1170507         NaN  2.537613 -0.120756   67.302549  0.203796         NaN   \n",
       "1170508         NaN  2.491860 -0.149752   64.267543  0.166264         NaN   \n",
       "1170509         NaN  2.447539 -0.186221   60.634149  0.121333         NaN   \n",
       "1170510         NaN  2.430716 -0.205090   58.129917  0.090366         NaN   \n",
       "\n",
       "         NPHI  RHOB_SYNTH  RHOB_COMBINED  \n",
       "0         NaN    2.027840       1.884186  \n",
       "1         NaN    2.043292       1.889794  \n",
       "2         NaN    2.063121       1.896523  \n",
       "3         NaN    2.072366       1.891913  \n",
       "4         NaN    2.072366       1.880034  \n",
       "...       ...         ...            ...  \n",
       "1170506   NaN    2.546154       2.527984  \n",
       "1170507   NaN    2.512992       2.537613  \n",
       "1170508   NaN    2.542477       2.491860  \n",
       "1170509   NaN    2.493705       2.447539  \n",
       "1170510   NaN    2.528490       2.430716  \n",
       "\n",
       "[1170511 rows x 9 columns]"
      ]
     },
     "execution_count": 113,
     "metadata": {},
     "output_type": "execute_result"
    }
   ],
   "source": [
    "workingdf"
   ]
  },
  {
   "cell_type": "code",
   "execution_count": 114,
   "metadata": {},
   "outputs": [
    {
     "data": {
      "text/plain": [
       "(0, 3.5)"
      ]
     },
     "execution_count": 114,
     "metadata": {},
     "output_type": "execute_result"
    },
    {
     "data": {
      "image/png": "[encoded data removed]",
      "text/plain": [
       "<Figure size 432x288 with 1 Axes>"
      ]
     },
     "metadata": {
      "needs_background": "light"
     },
     "output_type": "display_data"
    }
   ],
   "source": [
    "plt.scatter(workingdf['RHOB'], workingdf['RHOB_COMBINED'], marker='.', alpha=0.5)\n",
    "plt.xlim(0,3.5)\n",
    "plt.ylim(0,3.5)"
   ]
  },
  {
   "cell_type": "code",
   "execution_count": 115,
   "metadata": {},
   "outputs": [
    {
     "data": {
      "text/html": [
       "<div>\n",
       "<style scoped>\n",
       "    .dataframe tbody tr th:only-of-type {\n",
       "        vertical-align: middle;\n",
       "    }\n",
       "\n",
       "    .dataframe tbody tr th {\n",
       "        vertical-align: top;\n",
       "    }\n",
       "\n",
       "    .dataframe thead th {\n",
       "        text-align: right;\n",
       "    }\n",
       "</style>\n",
       "<table border=\"1\" class=\"dataframe\">\n",
       "  <thead>\n",
       "    <tr style=\"text-align: right;\">\n",
       "      <th></th>\n",
       "      <th>Z_LOC</th>\n",
       "      <th>RHOB</th>\n",
       "      <th>DIFF_CAL</th>\n",
       "      <th>GR_NORM</th>\n",
       "      <th>VSHALE</th>\n",
       "      <th>DTC</th>\n",
       "      <th>NPHI</th>\n",
       "      <th>RHOB_SYNTH</th>\n",
       "      <th>RHOB_COMBINED</th>\n",
       "    </tr>\n",
       "  </thead>\n",
       "  <tbody>\n",
       "    <tr>\n",
       "      <th>count</th>\n",
       "      <td>1.159736e+06</td>\n",
       "      <td>1.009242e+06</td>\n",
       "      <td>1.019826e+06</td>\n",
       "      <td>1.170511e+06</td>\n",
       "      <td>1.170511e+06</td>\n",
       "      <td>1.089648e+06</td>\n",
       "      <td>765409.000000</td>\n",
       "      <td>1.170511e+06</td>\n",
       "      <td>1.016050e+06</td>\n",
       "    </tr>\n",
       "    <tr>\n",
       "      <th>mean</th>\n",
       "      <td>-2.138527e+03</td>\n",
       "      <td>2.284987e+00</td>\n",
       "      <td>5.921446e-01</td>\n",
       "      <td>9.006886e+01</td>\n",
       "      <td>4.756745e-01</td>\n",
       "      <td>1.133581e+02</td>\n",
       "      <td>0.331966</td>\n",
       "      <td>2.287566e+00</td>\n",
       "      <td>2.289783e+00</td>\n",
       "    </tr>\n",
       "    <tr>\n",
       "      <th>std</th>\n",
       "      <td>9.709426e+02</td>\n",
       "      <td>2.532835e-01</td>\n",
       "      <td>1.392644e+00</td>\n",
       "      <td>2.806785e+01</td>\n",
       "      <td>2.967426e-01</td>\n",
       "      <td>2.999050e+01</td>\n",
       "      <td>0.130483</td>\n",
       "      <td>2.278301e-01</td>\n",
       "      <td>2.459329e-01</td>\n",
       "    </tr>\n",
       "    <tr>\n",
       "      <th>min</th>\n",
       "      <td>-5.395563e+03</td>\n",
       "      <td>7.209712e-01</td>\n",
       "      <td>-8.694515e+00</td>\n",
       "      <td>-3.858309e+01</td>\n",
       "      <td>0.000000e+00</td>\n",
       "      <td>7.415132e+00</td>\n",
       "      <td>-0.035822</td>\n",
       "      <td>1.168775e+00</td>\n",
       "      <td>7.209712e-01</td>\n",
       "    </tr>\n",
       "    <tr>\n",
       "      <th>25%</th>\n",
       "      <td>-2.811502e+03</td>\n",
       "      <td>2.092203e+00</td>\n",
       "      <td>-2.457237e-02</td>\n",
       "      <td>6.992794e+01</td>\n",
       "      <td>2.362615e-01</td>\n",
       "      <td>8.782584e+01</td>\n",
       "      <td>0.241365</td>\n",
       "      <td>2.095651e+00</td>\n",
       "      <td>2.097046e+00</td>\n",
       "    </tr>\n",
       "    <tr>\n",
       "      <th>50%</th>\n",
       "      <td>-2.042785e+03</td>\n",
       "      <td>2.321228e+00</td>\n",
       "      <td>2.447357e-01</td>\n",
       "      <td>8.782064e+01</td>\n",
       "      <td>4.575248e-01</td>\n",
       "      <td>1.095852e+02</td>\n",
       "      <td>0.326800</td>\n",
       "      <td>2.314483e+00</td>\n",
       "      <td>2.322315e+00</td>\n",
       "    </tr>\n",
       "    <tr>\n",
       "      <th>75%</th>\n",
       "      <td>-1.391866e+03</td>\n",
       "      <td>2.488580e+00</td>\n",
       "      <td>8.052783e-01</td>\n",
       "      <td>1.087333e+02</td>\n",
       "      <td>7.161328e-01</td>\n",
       "      <td>1.407745e+02</td>\n",
       "      <td>0.422951</td>\n",
       "      <td>2.478578e+00</td>\n",
       "      <td>2.488682e+00</td>\n",
       "    </tr>\n",
       "    <tr>\n",
       "      <th>max</th>\n",
       "      <td>-1.110860e+02</td>\n",
       "      <td>3.457820e+00</td>\n",
       "      <td>1.913762e+01</td>\n",
       "      <td>1.136846e+03</td>\n",
       "      <td>1.000000e+00</td>\n",
       "      <td>3.204789e+02</td>\n",
       "      <td>0.999570</td>\n",
       "      <td>3.180276e+00</td>\n",
       "      <td>3.457820e+00</td>\n",
       "    </tr>\n",
       "  </tbody>\n",
       "</table>\n",
       "</div>"
      ],
      "text/plain": [
       "              Z_LOC          RHOB      DIFF_CAL       GR_NORM        VSHALE  \\\n",
       "count  1.159736e+06  1.009242e+06  1.019826e+06  1.170511e+06  1.170511e+06   \n",
       "mean  -2.138527e+03  2.284987e+00  5.921446e-01  9.006886e+01  4.756745e-01   \n",
       "std    9.709426e+02  2.532835e-01  1.392644e+00  2.806785e+01  2.967426e-01   \n",
       "min   -5.395563e+03  7.209712e-01 -8.694515e+00 -3.858309e+01  0.000000e+00   \n",
       "25%   -2.811502e+03  2.092203e+00 -2.457237e-02  6.992794e+01  2.362615e-01   \n",
       "50%   -2.042785e+03  2.321228e+00  2.447357e-01  8.782064e+01  4.575248e-01   \n",
       "75%   -1.391866e+03  2.488580e+00  8.052783e-01  1.087333e+02  7.161328e-01   \n",
       "max   -1.110860e+02  3.457820e+00  1.913762e+01  1.136846e+03  1.000000e+00   \n",
       "\n",
       "                DTC           NPHI    RHOB_SYNTH  RHOB_COMBINED  \n",
       "count  1.089648e+06  765409.000000  1.170511e+06   1.016050e+06  \n",
       "mean   1.133581e+02       0.331966  2.287566e+00   2.289783e+00  \n",
       "std    2.999050e+01       0.130483  2.278301e-01   2.459329e-01  \n",
       "min    7.415132e+00      -0.035822  1.168775e+00   7.209712e-01  \n",
       "25%    8.782584e+01       0.241365  2.095651e+00   2.097046e+00  \n",
       "50%    1.095852e+02       0.326800  2.314483e+00   2.322315e+00  \n",
       "75%    1.407745e+02       0.422951  2.478578e+00   2.488682e+00  \n",
       "max    3.204789e+02       0.999570  3.180276e+00   3.457820e+00  "
      ]
     },
     "execution_count": 115,
     "metadata": {},
     "output_type": "execute_result"
    }
   ],
   "source": [
    "workingdf.describe()"
   ]
  },
  {
   "cell_type": "code",
   "execution_count": 143,
   "metadata": {},
   "outputs": [],
   "source": [
    "import pickle"
   ]
  },
  {
   "cell_type": "code",
   "execution_count": 259,
   "metadata": {},
   "outputs": [],
   "source": [
    "pickle.dump(model_RFR, open('RHOB_RFR_model.pkl', 'wb'))"
   ]
  },
  {
   "cell_type": "code",
   "execution_count": 260,
   "metadata": {},
   "outputs": [],
   "source": [
    "test_load = pickle.load(open('RHOB_RFR_model.pkl', 'rb'))"
   ]
  },
  {
   "cell_type": "code",
   "execution_count": 261,
   "metadata": {},
   "outputs": [
    {
     "data": {
      "text/plain": [
       "RandomForestRegressor(bootstrap=True, criterion='mse', max_depth=200,\n",
       "                      max_features='auto', max_leaf_nodes=None,\n",
       "                      min_impurity_decrease=0.0, min_impurity_split=None,\n",
       "                      min_samples_leaf=1, min_samples_split=2,\n",
       "                      min_weight_fraction_leaf=0.0, n_estimators=10,\n",
       "                      n_jobs=None, oob_score=False, random_state=None,\n",
       "                      verbose=0, warm_start=False)"
      ]
     },
     "execution_count": 261,
     "metadata": {},
     "output_type": "execute_result"
    }
   ],
   "source": [
    "test_load"
   ]
  },
  {
   "cell_type": "markdown",
   "metadata": {},
   "source": [
    "# NPHI Prediction"
   ]
  },
  {
   "cell_type": "code",
   "execution_count": 116,
   "metadata": {},
   "outputs": [],
   "source": [
    "nphi_working = workingdf.loc[:,['VSHALE', 'DTC', 'Z_LOC', 'RHOB_COMBINED', 'NPHI']]"
   ]
  },
  {
   "cell_type": "code",
   "execution_count": 117,
   "metadata": {},
   "outputs": [],
   "source": [
    "nphi_working['TVD']= nphi_working['Z_LOC'] * -1"
   ]
  },
  {
   "cell_type": "code",
   "execution_count": 118,
   "metadata": {},
   "outputs": [
    {
     "data": {
      "text/html": [
       "<div>\n",
       "<style scoped>\n",
       "    .dataframe tbody tr th:only-of-type {\n",
       "        vertical-align: middle;\n",
       "    }\n",
       "\n",
       "    .dataframe tbody tr th {\n",
       "        vertical-align: top;\n",
       "    }\n",
       "\n",
       "    .dataframe thead th {\n",
       "        text-align: right;\n",
       "    }\n",
       "</style>\n",
       "<table border=\"1\" class=\"dataframe\">\n",
       "  <thead>\n",
       "    <tr style=\"text-align: right;\">\n",
       "      <th></th>\n",
       "      <th>VSHALE</th>\n",
       "      <th>DTC</th>\n",
       "      <th>Z_LOC</th>\n",
       "      <th>RHOB_COMBINED</th>\n",
       "      <th>NPHI</th>\n",
       "      <th>TVD</th>\n",
       "    </tr>\n",
       "  </thead>\n",
       "  <tbody>\n",
       "    <tr>\n",
       "      <th>count</th>\n",
       "      <td>1.170511e+06</td>\n",
       "      <td>1.089648e+06</td>\n",
       "      <td>1.159736e+06</td>\n",
       "      <td>1.016050e+06</td>\n",
       "      <td>765409.000000</td>\n",
       "      <td>1.159736e+06</td>\n",
       "    </tr>\n",
       "    <tr>\n",
       "      <th>mean</th>\n",
       "      <td>4.756745e-01</td>\n",
       "      <td>1.133581e+02</td>\n",
       "      <td>-2.138527e+03</td>\n",
       "      <td>2.289783e+00</td>\n",
       "      <td>0.331966</td>\n",
       "      <td>2.138527e+03</td>\n",
       "    </tr>\n",
       "    <tr>\n",
       "      <th>std</th>\n",
       "      <td>2.967426e-01</td>\n",
       "      <td>2.999050e+01</td>\n",
       "      <td>9.709426e+02</td>\n",
       "      <td>2.459329e-01</td>\n",
       "      <td>0.130483</td>\n",
       "      <td>9.709426e+02</td>\n",
       "    </tr>\n",
       "    <tr>\n",
       "      <th>min</th>\n",
       "      <td>0.000000e+00</td>\n",
       "      <td>7.415132e+00</td>\n",
       "      <td>-5.395563e+03</td>\n",
       "      <td>7.209712e-01</td>\n",
       "      <td>-0.035822</td>\n",
       "      <td>1.110860e+02</td>\n",
       "    </tr>\n",
       "    <tr>\n",
       "      <th>25%</th>\n",
       "      <td>2.362615e-01</td>\n",
       "      <td>8.782584e+01</td>\n",
       "      <td>-2.811502e+03</td>\n",
       "      <td>2.097046e+00</td>\n",
       "      <td>0.241365</td>\n",
       "      <td>1.391866e+03</td>\n",
       "    </tr>\n",
       "    <tr>\n",
       "      <th>50%</th>\n",
       "      <td>4.575248e-01</td>\n",
       "      <td>1.095852e+02</td>\n",
       "      <td>-2.042785e+03</td>\n",
       "      <td>2.322315e+00</td>\n",
       "      <td>0.326800</td>\n",
       "      <td>2.042785e+03</td>\n",
       "    </tr>\n",
       "    <tr>\n",
       "      <th>75%</th>\n",
       "      <td>7.161328e-01</td>\n",
       "      <td>1.407745e+02</td>\n",
       "      <td>-1.391866e+03</td>\n",
       "      <td>2.488682e+00</td>\n",
       "      <td>0.422951</td>\n",
       "      <td>2.811502e+03</td>\n",
       "    </tr>\n",
       "    <tr>\n",
       "      <th>max</th>\n",
       "      <td>1.000000e+00</td>\n",
       "      <td>3.204789e+02</td>\n",
       "      <td>-1.110860e+02</td>\n",
       "      <td>3.457820e+00</td>\n",
       "      <td>0.999570</td>\n",
       "      <td>5.395563e+03</td>\n",
       "    </tr>\n",
       "  </tbody>\n",
       "</table>\n",
       "</div>"
      ],
      "text/plain": [
       "             VSHALE           DTC         Z_LOC  RHOB_COMBINED           NPHI  \\\n",
       "count  1.170511e+06  1.089648e+06  1.159736e+06   1.016050e+06  765409.000000   \n",
       "mean   4.756745e-01  1.133581e+02 -2.138527e+03   2.289783e+00       0.331966   \n",
       "std    2.967426e-01  2.999050e+01  9.709426e+02   2.459329e-01       0.130483   \n",
       "min    0.000000e+00  7.415132e+00 -5.395563e+03   7.209712e-01      -0.035822   \n",
       "25%    2.362615e-01  8.782584e+01 -2.811502e+03   2.097046e+00       0.241365   \n",
       "50%    4.575248e-01  1.095852e+02 -2.042785e+03   2.322315e+00       0.326800   \n",
       "75%    7.161328e-01  1.407745e+02 -1.391866e+03   2.488682e+00       0.422951   \n",
       "max    1.000000e+00  3.204789e+02 -1.110860e+02   3.457820e+00       0.999570   \n",
       "\n",
       "                TVD  \n",
       "count  1.159736e+06  \n",
       "mean   2.138527e+03  \n",
       "std    9.709426e+02  \n",
       "min    1.110860e+02  \n",
       "25%    1.391866e+03  \n",
       "50%    2.042785e+03  \n",
       "75%    2.811502e+03  \n",
       "max    5.395563e+03  "
      ]
     },
     "execution_count": 118,
     "metadata": {},
     "output_type": "execute_result"
    }
   ],
   "source": [
    "nphi_working.describe()"
   ]
  },
  {
   "cell_type": "code",
   "execution_count": 119,
   "metadata": {},
   "outputs": [
    {
     "data": {
      "text/plain": [
       "<matplotlib.axes._subplots.AxesSubplot at 0x2001a5bc988>"
      ]
     },
     "execution_count": 119,
     "metadata": {},
     "output_type": "execute_result"
    },
    {
     "data": {
      "image/png": "[encoded data removed]",
      "text/plain": [
       "<Figure size 1728x720 with 3 Axes>"
      ]
     },
     "metadata": {
      "needs_background": "light"
     },
     "output_type": "display_data"
    }
   ],
   "source": [
    "missingno.bar(nphi_working)"
   ]
  },
  {
   "cell_type": "code",
   "execution_count": 120,
   "metadata": {},
   "outputs": [],
   "source": [
    "nphi_working['TVD'].fillna(method='bfill', inplace=True)\n",
    "nphi_working['TVD'].fillna(method='ffill', inplace=True)"
   ]
  },
  {
   "cell_type": "code",
   "execution_count": 121,
   "metadata": {},
   "outputs": [],
   "source": [
    "nphi_working['DTC'].fillna(method='ffill', inplace=True)"
   ]
  },
  {
   "cell_type": "code",
   "execution_count": 125,
   "metadata": {},
   "outputs": [
    {
     "data": {
      "text/plain": [
       "<matplotlib.axes._subplots.AxesSubplot at 0x20000936548>"
      ]
     },
     "execution_count": 125,
     "metadata": {},
     "output_type": "execute_result"
    },
    {
     "data": {
      "image/png": "[encoded data removed]",
      "text/plain": [
       "<Figure size 1728x720 with 3 Axes>"
      ]
     },
     "metadata": {
      "needs_background": "light"
     },
     "output_type": "display_data"
    }
   ],
   "source": [
    "missingno.bar(nphi_working)"
   ]
  },
  {
   "cell_type": "code",
   "execution_count": 123,
   "metadata": {},
   "outputs": [],
   "source": [
    "nphi_working.dropna(inplace=True)"
   ]
  },
  {
   "cell_type": "code",
   "execution_count": 126,
   "metadata": {},
   "outputs": [],
   "source": [
    "nphimodeldf = nphi_working.copy()"
   ]
  },
  {
   "cell_type": "code",
   "execution_count": 127,
   "metadata": {},
   "outputs": [],
   "source": [
    "col_names = ['DTC', 'TVD', 'VSHALE', 'RHOB_COMBINED']\n",
    "features = nphi_working[col_names]\n",
    "scaler=StandardScaler().fit(features.values)\n",
    "features = scaler.transform(features.values)"
   ]
  },
  {
   "cell_type": "code",
   "execution_count": 128,
   "metadata": {},
   "outputs": [
    {
     "data": {
      "text/plain": [
       "array([[ 1.54655492, -1.39989584, -0.09458061, -2.48585208],\n",
       "       [ 1.35186657, -1.39973305,  0.09500625, -2.3695988 ],\n",
       "       [ 1.20468455, -1.39957013,  0.13973143, -2.29590315],\n",
       "       ...,\n",
       "       [-0.19068684,  0.73350581, -1.25119675,  0.36811028],\n",
       "       [-0.19068684,  0.73366847, -1.3461702 ,  0.20891506],\n",
       "       [-0.19068684,  0.73383138, -1.45025882,  0.11528492]])"
      ]
     },
     "execution_count": 128,
     "metadata": {},
     "output_type": "execute_result"
    }
   ],
   "source": [
    "features"
   ]
  },
  {
   "cell_type": "code",
   "execution_count": 129,
   "metadata": {},
   "outputs": [],
   "source": [
    "nphimodeldf[col_names] = features"
   ]
  },
  {
   "cell_type": "code",
   "execution_count": 130,
   "metadata": {},
   "outputs": [
    {
     "data": {
      "text/html": [
       "<div>\n",
       "<style scoped>\n",
       "    .dataframe tbody tr th:only-of-type {\n",
       "        vertical-align: middle;\n",
       "    }\n",
       "\n",
       "    .dataframe tbody tr th {\n",
       "        vertical-align: top;\n",
       "    }\n",
       "\n",
       "    .dataframe thead th {\n",
       "        text-align: right;\n",
       "    }\n",
       "</style>\n",
       "<table border=\"1\" class=\"dataframe\">\n",
       "  <thead>\n",
       "    <tr style=\"text-align: right;\">\n",
       "      <th></th>\n",
       "      <th>VSHALE</th>\n",
       "      <th>DTC</th>\n",
       "      <th>Z_LOC</th>\n",
       "      <th>RHOB_COMBINED</th>\n",
       "      <th>NPHI</th>\n",
       "      <th>TVD</th>\n",
       "    </tr>\n",
       "  </thead>\n",
       "  <tbody>\n",
       "    <tr>\n",
       "      <th>count</th>\n",
       "      <td>7.482780e+05</td>\n",
       "      <td>7.482780e+05</td>\n",
       "      <td>748278.000000</td>\n",
       "      <td>7.482780e+05</td>\n",
       "      <td>748278.000000</td>\n",
       "      <td>7.482780e+05</td>\n",
       "    </tr>\n",
       "    <tr>\n",
       "      <th>mean</th>\n",
       "      <td>-5.469526e-18</td>\n",
       "      <td>1.094817e-15</td>\n",
       "      <td>-2420.607277</td>\n",
       "      <td>-5.589400e-15</td>\n",
       "      <td>0.331900</td>\n",
       "      <td>8.429148e-16</td>\n",
       "    </tr>\n",
       "    <tr>\n",
       "      <th>std</th>\n",
       "      <td>1.000001e+00</td>\n",
       "      <td>1.000001e+00</td>\n",
       "      <td>933.607145</td>\n",
       "      <td>1.000001e+00</td>\n",
       "      <td>0.130252</td>\n",
       "      <td>1.000001e+00</td>\n",
       "    </tr>\n",
       "    <tr>\n",
       "      <th>min</th>\n",
       "      <td>-1.646668e+00</td>\n",
       "      <td>-3.464884e+00</td>\n",
       "      <td>-5395.563477</td>\n",
       "      <td>-7.132712e+00</td>\n",
       "      <td>-0.035822</td>\n",
       "      <td>-2.304510e+00</td>\n",
       "    </tr>\n",
       "    <tr>\n",
       "      <th>25%</th>\n",
       "      <td>-8.254671e-01</td>\n",
       "      <td>-7.781373e-01</td>\n",
       "      <td>-3030.406555</td>\n",
       "      <td>-7.397928e-01</td>\n",
       "      <td>0.240679</td>\n",
       "      <td>-7.360196e-01</td>\n",
       "    </tr>\n",
       "    <tr>\n",
       "      <th>50%</th>\n",
       "      <td>-1.020314e-02</td>\n",
       "      <td>-2.710655e-01</td>\n",
       "      <td>-2364.203613</td>\n",
       "      <td>1.812659e-01</td>\n",
       "      <td>0.326814</td>\n",
       "      <td>-6.041481e-02</td>\n",
       "    </tr>\n",
       "    <tr>\n",
       "      <th>75%</th>\n",
       "      <td>8.402699e-01</td>\n",
       "      <td>7.893703e-01</td>\n",
       "      <td>-1733.454559</td>\n",
       "      <td>7.909435e-01</td>\n",
       "      <td>0.423425</td>\n",
       "      <td>6.531652e-01</td>\n",
       "    </tr>\n",
       "    <tr>\n",
       "      <th>max</th>\n",
       "      <td>1.614221e+00</td>\n",
       "      <td>7.707823e+00</td>\n",
       "      <td>-269.101532</td>\n",
       "      <td>4.525735e+00</td>\n",
       "      <td>0.999570</td>\n",
       "      <td>3.186520e+00</td>\n",
       "    </tr>\n",
       "  </tbody>\n",
       "</table>\n",
       "</div>"
      ],
      "text/plain": [
       "             VSHALE           DTC          Z_LOC  RHOB_COMBINED  \\\n",
       "count  7.482780e+05  7.482780e+05  748278.000000   7.482780e+05   \n",
       "mean  -5.469526e-18  1.094817e-15   -2420.607277  -5.589400e-15   \n",
       "std    1.000001e+00  1.000001e+00     933.607145   1.000001e+00   \n",
       "min   -1.646668e+00 -3.464884e+00   -5395.563477  -7.132712e+00   \n",
       "25%   -8.254671e-01 -7.781373e-01   -3030.406555  -7.397928e-01   \n",
       "50%   -1.020314e-02 -2.710655e-01   -2364.203613   1.812659e-01   \n",
       "75%    8.402699e-01  7.893703e-01   -1733.454559   7.909435e-01   \n",
       "max    1.614221e+00  7.707823e+00    -269.101532   4.525735e+00   \n",
       "\n",
       "                NPHI           TVD  \n",
       "count  748278.000000  7.482780e+05  \n",
       "mean        0.331900  8.429148e-16  \n",
       "std         0.130252  1.000001e+00  \n",
       "min        -0.035822 -2.304510e+00  \n",
       "25%         0.240679 -7.360196e-01  \n",
       "50%         0.326814 -6.041481e-02  \n",
       "75%         0.423425  6.531652e-01  \n",
       "max         0.999570  3.186520e+00  "
      ]
     },
     "execution_count": 130,
     "metadata": {},
     "output_type": "execute_result"
    }
   ],
   "source": [
    "nphimodeldf.describe()"
   ]
  },
  {
   "cell_type": "code",
   "execution_count": 131,
   "metadata": {},
   "outputs": [],
   "source": [
    "X_nphi_LR = nphimodeldf.loc[:,['VSHALE', 'DTC', 'TVD', 'RHOB_COMBINED']]\n",
    "y_nphi_LR = nphimodeldf.loc[:,'NPHI']"
   ]
  },
  {
   "cell_type": "code",
   "execution_count": 132,
   "metadata": {},
   "outputs": [],
   "source": [
    "X_train_NPHI_LR, X_test_NPHI_LR, y_train_NPHI_LR, y_test_NPHI_LR = train_test_split(X_nphi_LR, y_nphi_LR, test_size=0.3, random_state=42)"
   ]
  },
  {
   "cell_type": "code",
   "execution_count": 133,
   "metadata": {},
   "outputs": [],
   "source": [
    "model_NPHI_LR=LinearRegression()"
   ]
  },
  {
   "cell_type": "code",
   "execution_count": 134,
   "metadata": {},
   "outputs": [
    {
     "data": {
      "text/plain": [
       "LinearRegression(copy_X=True, fit_intercept=True, n_jobs=None, normalize=False)"
      ]
     },
     "execution_count": 134,
     "metadata": {},
     "output_type": "execute_result"
    }
   ],
   "source": [
    "model_NPHI_LR.fit(X_train_NPHI_LR, y_train_NPHI_LR)"
   ]
  },
  {
   "cell_type": "code",
   "execution_count": 135,
   "metadata": {},
   "outputs": [],
   "source": [
    "y_pred_NPHI_LR_test = model_NPHI_LR.predict(X_test_NPHI_LR)"
   ]
  },
  {
   "cell_type": "code",
   "execution_count": 136,
   "metadata": {},
   "outputs": [
    {
     "data": {
      "text/plain": [
       "(0, 1)"
      ]
     },
     "execution_count": 136,
     "metadata": {},
     "output_type": "execute_result"
    },
    {
     "data": {
      "image/png": "[encoded data removed]",
      "text/plain": [
       "<Figure size 432x288 with 1 Axes>"
      ]
     },
     "metadata": {
      "needs_background": "light"
     },
     "output_type": "display_data"
    }
   ],
   "source": [
    "plt.scatter(y_test_NPHI_LR, y_pred_NPHI_LR_test)\n",
    "plt.xlim(0,1)\n",
    "plt.ylim(0,1)"
   ]
  },
  {
   "cell_type": "code",
   "execution_count": 137,
   "metadata": {},
   "outputs": [
    {
     "name": "stderr",
     "output_type": "stream",
     "text": [
      "C:\\Users\\BANAMZ\\AppData\\Local\\Continuum\\anaconda3\\lib\\site-packages\\sklearn\\ensemble\\forest.py:245: FutureWarning: The default value of n_estimators will change from 10 in version 0.20 to 100 in 0.22.\n",
      "  \"10 in version 0.20 to 100 in 0.22.\", FutureWarning)\n"
     ]
    },
    {
     "data": {
      "text/plain": [
       "RandomForestRegressor(bootstrap=True, criterion='mse', max_depth=200,\n",
       "                      max_features='auto', max_leaf_nodes=None,\n",
       "                      min_impurity_decrease=0.0, min_impurity_split=None,\n",
       "                      min_samples_leaf=1, min_samples_split=2,\n",
       "                      min_weight_fraction_leaf=0.0, n_estimators=10,\n",
       "                      n_jobs=None, oob_score=False, random_state=None,\n",
       "                      verbose=0, warm_start=False)"
      ]
     },
     "execution_count": 137,
     "metadata": {},
     "output_type": "execute_result"
    }
   ],
   "source": [
    "model_NPHI_RFR = RandomForestRegressor(max_depth=200)\n",
    "model_NPHI_RFR.fit(X_train_NPHI_LR, y_train_NPHI_LR)"
   ]
  },
  {
   "cell_type": "code",
   "execution_count": 138,
   "metadata": {},
   "outputs": [],
   "source": [
    "y_pred_NPHI_RFR_test = model_NPHI_RFR.predict(X_test_NPHI_LR)"
   ]
  },
  {
   "cell_type": "code",
   "execution_count": 139,
   "metadata": {},
   "outputs": [
    {
     "data": {
      "text/plain": [
       "(0, 1)"
      ]
     },
     "execution_count": 139,
     "metadata": {},
     "output_type": "execute_result"
    },
    {
     "data": {
      "image/png": "[encoded data removed]",
      "text/plain": [
       "<Figure size 432x288 with 1 Axes>"
      ]
     },
     "metadata": {
      "needs_background": "light"
     },
     "output_type": "display_data"
    }
   ],
   "source": [
    "plt.scatter(y_test_NPHI_LR, y_pred_NPHI_RFR_test)\n",
    "plt.xlim(0,1)\n",
    "plt.ylim(0,1)"
   ]
  },
  {
   "cell_type": "code",
   "execution_count": 140,
   "metadata": {},
   "outputs": [
    {
     "name": "stderr",
     "output_type": "stream",
     "text": [
      "C:\\Users\\BANAMZ\\AppData\\Local\\Continuum\\anaconda3\\lib\\site-packages\\xgboost\\core.py:587: FutureWarning: Series.base is deprecated and will be removed in a future version\n",
      "  if getattr(data, 'base', None) is not None and \\\n"
     ]
    },
    {
     "name": "stdout",
     "output_type": "stream",
     "text": [
      "[16:45:57] WARNING: src/objective/regression_obj.cu:152: reg:linear is now deprecated in favor of reg:squarederror.\n"
     ]
    },
    {
     "data": {
      "text/plain": [
       "XGBRegressor(base_score=0.5, booster='gbtree', colsample_bylevel=1,\n",
       "             colsample_bynode=1, colsample_bytree=1, gamma=0,\n",
       "             importance_type='gain', learning_rate=0.1, max_delta_step=0,\n",
       "             max_depth=3, min_child_weight=1, missing=None, n_estimators=100,\n",
       "             n_jobs=1, nthread=None, objective='reg:linear', random_state=0,\n",
       "             reg_alpha=0, reg_lambda=1, scale_pos_weight=1, seed=None,\n",
       "             silent=None, subsample=1, verbosity=1)"
      ]
     },
     "execution_count": 140,
     "metadata": {},
     "output_type": "execute_result"
    }
   ],
   "source": [
    "model_NPHI_XGBR = XGBRegressor()\n",
    "model_NPHI_XGBR.fit(X_train_NPHI_LR, y_train_NPHI_LR)"
   ]
  },
  {
   "cell_type": "code",
   "execution_count": 141,
   "metadata": {},
   "outputs": [],
   "source": [
    "y_pred_NPHI_XGBR_test = model_NPHI_XGBR.predict(X_test_NPHI_LR)"
   ]
  },
  {
   "cell_type": "code",
   "execution_count": 142,
   "metadata": {},
   "outputs": [
    {
     "data": {
      "text/plain": [
       "(0, 1)"
      ]
     },
     "execution_count": 142,
     "metadata": {},
     "output_type": "execute_result"
    },
    {
     "data": {
      "image/png": "[encoded data removed]",
      "text/plain": [
       "<Figure size 432x288 with 1 Axes>"
      ]
     },
     "metadata": {
      "needs_background": "light"
     },
     "output_type": "display_data"
    }
   ],
   "source": [
    "plt.scatter(y_test_NPHI_LR, y_pred_NPHI_XGBR_test)\n",
    "plt.xlim(0,1)\n",
    "plt.ylim(0,1)"
   ]
  },
  {
   "cell_type": "code",
   "execution_count": 144,
   "metadata": {},
   "outputs": [],
   "source": [
    "pickle.dump(model_NPHI_RFR, open('NPHI_RFR_model.pkl', 'wb'))"
   ]
  },
  {
   "cell_type": "code",
   "execution_count": null,
   "metadata": {},
   "outputs": [],
   "source": []
  },
  {
   "cell_type": "markdown",
   "metadata": {},
   "source": [
    "SVR Takes too much time"
   ]
  },
  {
   "cell_type": "code",
   "execution_count": 338,
   "metadata": {},
   "outputs": [],
   "source": [
    "from sklearn.svm import SVR"
   ]
  },
  {
   "cell_type": "code",
   "execution_count": null,
   "metadata": {},
   "outputs": [
    {
     "name": "stderr",
     "output_type": "stream",
     "text": [
      "C:\\Users\\BANAMZ\\AppData\\Local\\Continuum\\anaconda3\\lib\\site-packages\\sklearn\\svm\\base.py:193: FutureWarning: The default value of gamma will change from 'auto' to 'scale' in version 0.22 to account better for unscaled features. Set gamma explicitly to 'auto' or 'scale' to avoid this warning.\n",
      "  \"avoid this warning.\", FutureWarning)\n"
     ]
    }
   ],
   "source": [
    "model_NPHI_SVRRBF = SVR(kernel='rbf')\n",
    "model_NPHI_SVRRBF.fit(X_train_NPHI_LR, y_train_NPHI_LR)"
   ]
  },
  {
   "cell_type": "code",
   "execution_count": null,
   "metadata": {},
   "outputs": [],
   "source": [
    "y_pred_NPHI_SVRRBF_test = model_NPHI_SVRRBF.predict(X_test_NPHI_LR)"
   ]
  },
  {
   "cell_type": "code",
   "execution_count": null,
   "metadata": {},
   "outputs": [],
   "source": []
  },
  {
   "cell_type": "code",
   "execution_count": 337,
   "metadata": {},
   "outputs": [
    {
     "name": "stdout",
     "output_type": "stream",
     "text": [
      "RMSE on Test Data for LR: 0.0791957808582979\n",
      "RMSE on Test Data for RFR: 0.04583753664601979\n",
      "RMSE on Test Data for XGBR: 0.0692709140757742\n"
     ]
    }
   ],
   "source": [
    "print(f'RMSE on Test Data for LR: {mean_squared_error(y_test_NPHI_LR, y_pred_NPHI_LR_test)**0.5}')\n",
    "print(f'RMSE on Test Data for RFR: {mean_squared_error(y_test_NPHI_LR, y_pred_NPHI_RFR_test)**0.5}')\n",
    "print(f'RMSE on Test Data for XGBR: {mean_squared_error(y_test, y_pred_NPHI_XGBR_test)**0.5}')"
   ]
  },
  {
   "cell_type": "code",
   "execution_count": null,
   "metadata": {},
   "outputs": [],
   "source": []
  },
  {
   "cell_type": "code",
   "execution_count": null,
   "metadata": {},
   "outputs": [],
   "source": []
  }
 ],
 "metadata": {
  "kernelspec": {
   "display_name": "Python 3.7.6 64-bit ('base': conda)",
   "language": "python",
   "name": "python37664bitbasecondad5913ed8f83b46ff8983032edb9dade7"
  },
  "language_info": {
   "codemirror_mode": {
    "name": "ipython",
    "version": 3
   },
   "file_extension": ".py",
   "mimetype": "text/x-python",
   "name": "python",
   "nbconvert_exporter": "python",
   "pygments_lexer": "ipython3",
   "version": "3.7.6"
  }
 },
 "nbformat": 4,
 "nbformat_minor": 4
}
